{
 "cells": [
  {
   "cell_type": "code",
   "execution_count": 1,
   "metadata": {
    "ExecuteTime": {
     "end_time": "2018-01-20T15:11:16.234126Z",
     "start_time": "2018-01-20T15:11:15.429163Z"
    }
   },
   "outputs": [],
   "source": [
    "%load_ext autoreload\n",
    "%autoreload 2\n",
    "%matplotlib inline\n",
    "from CHAMP.DataLoader import LoadFaceDB\n",
    "from CHAMP.Monitor import DisplayDico, DisplayConvergenceCHAMP\n",
    "from CHAMP.CHAMP_Layer import CHAMP_Layer"
   ]
  },
  {
   "cell_type": "code",
   "execution_count": null,
   "metadata": {
    "ExecuteTime": {
     "start_time": "2018-01-20T15:11:15.382Z"
    }
   },
   "outputs": [],
   "source": [
    "path = \"../../../Science/These/Rapport d'avancement/database/Face_DataBase/\"\n",
    "path = \"/Users/laurentperrinet/science/VB_These/Rapport d'avancement/database/Face_DataBase/\"\n",
    "training_set = LoadFaceDB(path, nb_batch=1,Decorrelated=True,Normalized=False)"
   ]
  },
  {
   "cell_type": "code",
   "execution_count": null,
   "metadata": {
    "ExecuteTime": {
     "start_time": "2018-01-20T15:11:15.387Z"
    }
   },
   "outputs": [],
   "source": [
    "ChampLayer = CHAMP_Layer(l0_sparseness=40,sigma=0.5, nb_dico=8,verbose=4,\\\n",
    "                         dico_size=(17,17),doSym=False, FilterStyle='GaussianBinary', MaskMod='Residual')\n",
    "dico = ChampLayer.TrainLayer(training_set, eta=0.02, eta_homeo=None,nb_epoch=100)"
   ]
  },
  {
   "cell_type": "code",
   "execution_count": null,
   "metadata": {
    "ExecuteTime": {
     "start_time": "2018-01-20T15:11:15.393Z"
    }
   },
   "outputs": [],
   "source": [
    "DisplayConvergenceCHAMP(ChampLayer,['error','histo'])\n",
    "DisplayDico(ChampLayer.dictionary)"
   ]
  },
  {
   "cell_type": "code",
   "execution_count": null,
   "metadata": {
    "ExecuteTime": {
     "start_time": "2018-01-20T15:11:15.396Z"
    }
   },
   "outputs": [],
   "source": [
    "ChampLayer = CHAMP_Layer(l0_sparseness=40,sigma=0.5, nb_dico=8,verbose=4,\\\n",
    "                         dico_size=(17,17),doSym=False, FilterStyle='GaussianBinary', MaskMod='Residual')\n",
    "dico = ChampLayer.TrainLayer(training_set, eta=0.02, eta_homeo=None,nb_epoch=400)"
   ]
  },
  {
   "cell_type": "code",
   "execution_count": null,
   "metadata": {
    "ExecuteTime": {
     "start_time": "2018-01-20T15:11:15.399Z"
    }
   },
   "outputs": [],
   "source": [
    "DisplayConvergenceCHAMP(ChampLayer,['error','histo'])\n",
    "DisplayDico(ChampLayer.dictionary)"
   ]
  },
  {
   "cell_type": "code",
   "execution_count": null,
   "metadata": {
    "ExecuteTime": {
     "start_time": "2018-01-20T15:11:15.403Z"
    }
   },
   "outputs": [],
   "source": [
    "ChampLayer = CHAMP_Layer(l0_sparseness=40,sigma=0.5, nb_dico=8,verbose=4,\\\n",
    "                         dico_size=(17,17),doSym=False, FilterStyle='GaussianBinaryMagic', MaskMod='Residual')\n",
    "dico = ChampLayer.TrainLayer(training_set, eta=0.005, eta_homeo=None,nb_epoch=100)"
   ]
  },
  {
   "cell_type": "code",
   "execution_count": null,
   "metadata": {
    "ExecuteTime": {
     "start_time": "2018-01-20T15:11:15.406Z"
    }
   },
   "outputs": [],
   "source": [
    "DisplayConvergenceCHAMP(ChampLayer,['error','histo'])\n",
    "DisplayDico(ChampLayer.dictionary)"
   ]
  },
  {
   "cell_type": "code",
   "execution_count": null,
   "metadata": {},
   "outputs": [],
   "source": []
  }
 ],
 "metadata": {
  "kernelspec": {
   "display_name": "Python 3",
   "language": "python",
   "name": "python3"
  },
  "language_info": {
   "codemirror_mode": {
    "name": "ipython",
    "version": 3
   },
   "file_extension": ".py",
   "mimetype": "text/x-python",
   "name": "python",
   "nbconvert_exporter": "python",
   "pygments_lexer": "ipython3",
   "version": "3.6.4"
  },
  "toc": {
   "nav_menu": {},
   "number_sections": true,
   "sideBar": true,
   "skip_h1_title": false,
   "toc_cell": false,
   "toc_position": {},
   "toc_section_display": "block",
   "toc_window_display": false
  }
 },
 "nbformat": 4,
 "nbformat_minor": 2
}
