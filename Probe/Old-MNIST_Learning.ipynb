{
 "cells": [
  {
   "cell_type": "code",
   "execution_count": 1,
   "metadata": {
    "ExecuteTime": {
     "end_time": "2018-01-20T15:11:59.476532Z",
     "start_time": "2018-01-20T15:11:58.389665Z"
    }
   },
   "outputs": [
    {
     "ename": "ImportError",
     "evalue": "cannot import name 'CodingCHAMP'",
     "output_type": "error",
     "traceback": [
      "\u001b[0;31m---------------------------------------------------------------------------\u001b[0m",
      "\u001b[0;31mImportError\u001b[0m                               Traceback (most recent call last)",
      "\u001b[0;32m<ipython-input-1-2f6de3d15412>\u001b[0m in \u001b[0;36m<module>\u001b[0;34m()\u001b[0m\n\u001b[1;32m      9\u001b[0m \u001b[0;32mimport\u001b[0m \u001b[0mtorch\u001b[0m\u001b[0;34m\u001b[0m\u001b[0m\n\u001b[1;32m     10\u001b[0m \u001b[0;32mfrom\u001b[0m \u001b[0mtorch\u001b[0m\u001b[0;34m.\u001b[0m\u001b[0mautograd\u001b[0m \u001b[0;32mimport\u001b[0m \u001b[0mVariable\u001b[0m\u001b[0;34m\u001b[0m\u001b[0m\n\u001b[0;32m---> 11\u001b[0;31m \u001b[0;32mfrom\u001b[0m \u001b[0mCHAMP\u001b[0m\u001b[0;34m.\u001b[0m\u001b[0mCHAMP_Layer\u001b[0m \u001b[0;32mimport\u001b[0m \u001b[0mCodingCHAMP\u001b[0m\u001b[0;34m,\u001b[0m\u001b[0mCHAMP_Layer\u001b[0m\u001b[0;34m\u001b[0m\u001b[0m\n\u001b[0m\u001b[1;32m     12\u001b[0m \u001b[0;32mfrom\u001b[0m \u001b[0mCHAMP\u001b[0m\u001b[0;34m.\u001b[0m\u001b[0mtesting_function\u001b[0m \u001b[0;32mimport\u001b[0m \u001b[0mUpdateModulation\u001b[0m\u001b[0;34m\u001b[0m\u001b[0m\n\u001b[1;32m     13\u001b[0m \u001b[0;32mfrom\u001b[0m \u001b[0mtorch\u001b[0m\u001b[0;34m.\u001b[0m\u001b[0mnn\u001b[0m\u001b[0;34m.\u001b[0m\u001b[0mfunctional\u001b[0m \u001b[0;32mimport\u001b[0m \u001b[0mconv2d\u001b[0m\u001b[0;34m\u001b[0m\u001b[0m\n",
      "\u001b[0;31mImportError\u001b[0m: cannot import name 'CodingCHAMP'"
     ]
    }
   ],
   "source": [
    "%load_ext autoreload\n",
    "%autoreload 2\n",
    "%matplotlib inline\n",
    "from CHAMP.DataTools import Normalize, Decorrelate\n",
    "from CHAMP.DataTools import Decorrelate2\n",
    "from CHAMP.DataLoader import GenerateRound, GenerateGabor, LoadMNIST\n",
    "from CHAMP.DataLoader import LoadMNIST2\n",
    "import matplotlib.pyplot as plt\n",
    "import torch\n",
    "from torch.autograd import Variable\n",
    "from CHAMP.CHAMP_Layer import CodingCHAMP, CHAMP_Layer\n",
    "from CHAMP.testing_function import UpdateModulation\n",
    "from torch.nn.functional import conv2d\n",
    "import numpy as np\n",
    "import matplotlib.pyplot as plt\n",
    "from itertools import tee\n",
    "import torchvision\n",
    "from CHAMP.Monitor import DisplayDico, DisplayConvergence\n",
    "from CHAMP.Classif_Layer import Classif_Layer\n",
    "import time\n",
    "import torchvision.transforms as transforms"
   ]
  },
  {
   "cell_type": "code",
   "execution_count": null,
   "metadata": {
    "ExecuteTime": {
     "end_time": "2018-01-20T15:11:59.478226Z",
     "start_time": "2018-01-20T15:11:58.350Z"
    }
   },
   "outputs": [],
   "source": [
    "training_set, testing_set = LoadMNIST(batch_size=1000)"
   ]
  },
  {
   "cell_type": "code",
   "execution_count": null,
   "metadata": {
    "ExecuteTime": {
     "end_time": "2018-01-20T15:11:59.481519Z",
     "start_time": "2018-01-20T15:11:58.355Z"
    }
   },
   "outputs": [],
   "source": [
    "#print(torch.mean(torch.norm(img_train.view(-1,28*28),p=2,dim=1)))\n",
    "dico_random = np.random.rand(30,1,13,13)\n",
    "dico_random  = Variable(torch.FloatTensor(dico_random))"
   ]
  },
  {
   "cell_type": "code",
   "execution_count": null,
   "metadata": {
    "ExecuteTime": {
     "end_time": "2018-01-20T15:11:59.483665Z",
     "start_time": "2018-01-20T15:11:58.359Z"
    }
   },
   "outputs": [],
   "source": [
    "Layer = CHAMP_Layer(l0_sparseness=10,sigma=2,verbose=1)\n",
    "dico = Layer.TrainLayer0(training_set,eta_homeo=0.05)"
   ]
  },
  {
   "cell_type": "code",
   "execution_count": null,
   "metadata": {
    "ExecuteTime": {
     "end_time": "2018-01-20T15:11:59.489621Z",
     "start_time": "2018-01-20T15:11:58.363Z"
    }
   },
   "outputs": [],
   "source": [
    "DisplayDico(Layer.dictionary)\n",
    "DisplayConvergence(Layer,['error','histo'])"
   ]
  },
  {
   "cell_type": "code",
   "execution_count": null,
   "metadata": {
    "ExecuteTime": {
     "end_time": "2018-01-20T15:11:59.493719Z",
     "start_time": "2018-01-20T15:11:58.367Z"
    }
   },
   "outputs": [],
   "source": [
    "#DisplayDico(Layer.dictionary)\n",
    "#DisplayConvergence(Layer,['error','histo'])"
   ]
  },
  {
   "cell_type": "code",
   "execution_count": null,
   "metadata": {
    "ExecuteTime": {
     "end_time": "2018-01-20T15:11:59.500002Z",
     "start_time": "2018-01-20T15:11:58.371Z"
    }
   },
   "outputs": [],
   "source": [
    "#DisplayDico(Layer.dictionary)\n",
    "#DisplayConvergence(Layer,['error','histo'])"
   ]
  }
 ],
 "metadata": {
  "kernelspec": {
   "display_name": "Python 3",
   "language": "python",
   "name": "python3"
  },
  "language_info": {
   "codemirror_mode": {
    "name": "ipython",
    "version": 3
   },
   "file_extension": ".py",
   "mimetype": "text/x-python",
   "name": "python",
   "nbconvert_exporter": "python",
   "pygments_lexer": "ipython3",
   "version": "3.6.4"
  },
  "toc": {
   "nav_menu": {},
   "number_sections": true,
   "sideBar": true,
   "skip_h1_title": false,
   "toc_cell": false,
   "toc_position": {},
   "toc_section_display": "block",
   "toc_window_display": false
  }
 },
 "nbformat": 4,
 "nbformat_minor": 2
}
