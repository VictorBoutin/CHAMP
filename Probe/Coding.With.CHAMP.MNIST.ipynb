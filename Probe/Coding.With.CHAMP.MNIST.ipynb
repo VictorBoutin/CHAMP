{
 "cells": [
  {
   "cell_type": "code",
   "execution_count": 197,
   "metadata": {
    "collapsed": false
   },
   "outputs": [
    {
     "name": "stdout",
     "output_type": "stream",
     "text": [
      "The autoreload extension is already loaded. To reload it, use:\n",
      "  %reload_ext autoreload\n"
     ]
    }
   ],
   "source": [
    "%load_ext autoreload\n",
    "%autoreload 2\n",
    "%matplotlib inline\n",
    "from CHAMP.DataLoader import LoadData, LoadFaceDB\n",
    "from CHAMP.Monitor import DisplayDico, DisplayConvergenceCHAMP, DisplayConvergenceClassif\n",
    "from CHAMP.CHAMP_Layer import ConvMP\n",
    "from CHAMP.DataTools import GenerateGabor, Rebuilt, ContrastNormalized, ChangeBatchSize\n",
    "import matplotlib.pyplot as plt\n",
    "from CHAMP.LowLevel import conv\n",
    "from CHAMP.Classif_Layer import Classif_Layer\n",
    "import os\n",
    "home = os.getenv('HOME')\n",
    "from CHAMP.DataTools import SaveNetwork, LoadNetwork"
   ]
  },
  {
   "cell_type": "code",
   "execution_count": 198,
   "metadata": {
    "collapsed": true
   },
   "outputs": [],
   "source": [
    "import torchvision.transforms as transforms"
   ]
  },
  {
   "cell_type": "code",
   "execution_count": 199,
   "metadata": {
    "collapsed": true
   },
   "outputs": [],
   "source": [
    "l0 = 10\n",
    "nb_dico = 8\n",
    "dico_size = (5,5)\n",
    "image_size = (28,28)\n",
    "OutputL1_size =tuple(image_size[i]-dico_size[i]+1 for i in range(len(dico_size)))\n",
    "saving_path = 'Records/'"
   ]
  },
  {
   "cell_type": "markdown",
   "metadata": {},
   "source": [
    "# On MNIST DataBase"
   ]
  },
  {
   "cell_type": "markdown",
   "metadata": {},
   "source": [
    "## Load the DataBase"
   ]
  },
  {
   "cell_type": "code",
   "execution_count": 200,
   "metadata": {
    "collapsed": false
   },
   "outputs": [],
   "source": [
    "path = \"../../../Science/These/Rapport d'avancement/database/MNISTtorch/\"\n",
    "#path = home + \"/science/VB_These/Rapport d'avancement/database/Face_DataBase/\"\n",
    "training_set,testing_set = LoadData('MNIST',data_path=path,avg_size=(5,5),GPU=False)"
   ]
  },
  {
   "cell_type": "code",
   "execution_count": 201,
   "metadata": {
    "collapsed": false
   },
   "outputs": [
    {
     "data": {
      "image/png": "[encoded data removed]",
      "text/plain": [
       "<matplotlib.figure.Figure at 0x115af36a0>"
      ]
     },
     "metadata": {},
     "output_type": "display_data"
    }
   ],
   "source": [
    "plot = plt.imshow(training_set[0][0,0,0,:,:].numpy(),cmap='gray')"
   ]
  },
  {
   "cell_type": "markdown",
   "metadata": {},
   "source": [
    "## Generate Filters"
   ]
  },
  {
   "cell_type": "code",
   "execution_count": 202,
   "metadata": {
    "collapsed": false
   },
   "outputs": [
    {
     "data": {
      "image/png": "[encoded data removed]",
      "text/plain": [
       "<matplotlib.figure.Figure at 0x116f767b8>"
      ]
     },
     "metadata": {},
     "output_type": "display_data"
    }
   ],
   "source": [
    "DicoGabor = GenerateGabor(nb_dico=nb_dico,dico_size=dico_size,sigma=1.5,lambd=5,gamma=0.5,psi=0,GPU=False)\n",
    "DisplayDico(DicoGabor)"
   ]
  },
  {
   "cell_type": "markdown",
   "metadata": {},
   "source": [
    "## Coding"
   ]
  },
  {
   "cell_type": "code",
   "execution_count": 209,
   "metadata": {
    "collapsed": false
   },
   "outputs": [
    {
     "name": "stdout",
     "output_type": "stream",
     "text": [
      "1 loop, best of 3: 1min 2s per loop\n"
     ]
    }
   ],
   "source": [
    "## With custom ravel index function\n",
    "%%timeit\n",
    "code_training = ConvMP(image_input=training_set[0][0,:,:,:,:], dictionary=DicoGabor, l0_sparseness=l0,\n",
    "                modulation=None, verbose=0, train=True, doSym='pos', mask=None,\\\n",
    "                MaskMod='Residual')"
   ]
  },
  {
   "cell_type": "code",
   "execution_count": 211,
   "metadata": {
    "collapsed": false
   },
   "outputs": [
    {
     "name": "stdout",
     "output_type": "stream",
     "text": [
      "1 loop, best of 3: 53.4 s per loop\n"
     ]
    }
   ],
   "source": [
    "%%timeit\n",
    "## with numpyravel index\n",
    "\n",
    "code_training = ConvMP(image_input=training_set[0][0,:,:,:,:], dictionary=DicoGabor, l0_sparseness=l0,\n",
    "                modulation=None, verbose=0, train=True, doSym='pos', mask=None,\\\n",
    "                MaskMod='Residual')"
   ]
  },
  {
   "cell_type": "code",
   "execution_count": 8,
   "metadata": {
    "collapsed": false
   },
   "outputs": [],
   "source": [
    "reconstructed_image = Rebuilt(training_set[0][0,:,:,:,:],code_training,DicoGabor)"
   ]
  },
  {
   "cell_type": "code",
   "execution_count": 9,
   "metadata": {
    "collapsed": false
   },
   "outputs": [
    {
     "data": {
      "text/plain": [
       "<matplotlib.image.AxesImage at 0x12288bac8>"
      ]
     },
     "execution_count": 9,
     "metadata": {},
     "output_type": "execute_result"
    },
    {
     "data": {
      "image/png": "[encoded data removed]",
      "text/plain": [
       "<matplotlib.figure.Figure at 0x1163374a8>"
      ]
     },
     "metadata": {},
     "output_type": "display_data"
    }
   ],
   "source": [
    "plt.imshow(reconstructed_image[0,0,:,:].numpy(),cmap='gray')"
   ]
  },
  {
   "cell_type": "code",
   "execution_count": 10,
   "metadata": {
    "collapsed": true
   },
   "outputs": [],
   "source": [
    "residual=training_set[0][0,:,:,:,:]-reconstructed_image"
   ]
  },
  {
   "cell_type": "code",
   "execution_count": 11,
   "metadata": {
    "collapsed": false
   },
   "outputs": [
    {
     "data": {
      "text/plain": [
       "<matplotlib.image.AxesImage at 0x1229ad4e0>"
      ]
     },
     "execution_count": 11,
     "metadata": {},
     "output_type": "execute_result"
    },
    {
     "data": {
      "image/png": "[encoded data removed]",
      "text/plain": [
       "<matplotlib.figure.Figure at 0x1228c70b8>"
      ]
     },
     "metadata": {},
     "output_type": "display_data"
    }
   ],
   "source": [
    "plt.imshow(residual[0,0,:,:].numpy(),cmap='gray')"
   ]
  },
  {
   "cell_type": "code",
   "execution_count": 12,
   "metadata": {
    "collapsed": false
   },
   "outputs": [],
   "source": [
    "code_testing = ConvMP(image_input=testing_set[0][0,:,:,:,:], dictionary=DicoGabor, l0_sparseness=l0,\n",
    "                modulation=None, verbose=0, train=True, doSym='pos', mask=None,\\\n",
    "                MaskMod='Residual')"
   ]
  },
  {
   "cell_type": "markdown",
   "metadata": {},
   "source": [
    "## Classifying Row Data"
   ]
  },
  {
   "cell_type": "code",
   "execution_count": 13,
   "metadata": {
    "collapsed": true
   },
   "outputs": [],
   "source": [
    "SaveExp = False"
   ]
  },
  {
   "cell_type": "code",
   "execution_count": 14,
   "metadata": {
    "collapsed": true
   },
   "outputs": [],
   "source": [
    "batch_training_set = ChangeBatchSize(training_set,batch_size=2000)"
   ]
  },
  {
   "cell_type": "code",
   "execution_count": 15,
   "metadata": {
    "collapsed": false
   },
   "outputs": [
    {
     "name": "stdout",
     "output_type": "stream",
     "text": [
      "torch.Size([30, 2000, 1, 28, 28])\n"
     ]
    }
   ],
   "source": [
    "print(batch_training_set[0].size())"
   ]
  },
  {
   "cell_type": "code",
   "execution_count": 16,
   "metadata": {
    "collapsed": false
   },
   "outputs": [],
   "source": [
    "from CHAMP.Classif_Layer import Classif_Layer\n",
    "if SaveExp == True:\n",
    "    Classifier_Raw = Classif_Layer(nb_dico=1,size_image=image_size,nb_categories=10, verbose=0)\n",
    "    Classifier_Raw = Classifier_Raw.train_classif(batch_training_set,nb_epoch=10000,data_test_loader=testing_set,lr=0.005)\n",
    "    SaveNetwork(Classifier_Raw, saving_path+'MNIST_ClassifRaw.pkl')\n",
    "else : \n",
    "    Classifier_Raw = LoadNetwork(saving_path+'MNIST_ClassifRaw.pkl')"
   ]
  },
  {
   "cell_type": "code",
   "execution_count": 17,
   "metadata": {
    "collapsed": false
   },
   "outputs": [
    {
     "data": {
      "image/png": "[encoded data removed]",
      "text/plain": [
       "<matplotlib.figure.Figure at 0x1228e9588>"
      ]
     },
     "metadata": {},
     "output_type": "display_data"
    }
   ],
   "source": [
    "DisplayConvergenceClassif(Classifier_Raw, to_display=['error','accu'])"
   ]
  },
  {
   "cell_type": "code",
   "execution_count": 18,
   "metadata": {
    "collapsed": false
   },
   "outputs": [
    {
     "name": "stdout",
     "output_type": "stream",
     "text": [
      "best accuracy : 90.81%\n"
     ]
    }
   ],
   "source": [
    "print('best accuracy : {0}%'.format(Classifier_Raw.accuracy_list[-1]*100))"
   ]
  },
  {
   "cell_type": "markdown",
   "metadata": {},
   "source": [
    "## Classifying Output of One CHAMP Layer"
   ]
  },
  {
   "cell_type": "code",
   "execution_count": 19,
   "metadata": {
    "collapsed": true
   },
   "outputs": [],
   "source": [
    "SaveExp = False"
   ]
  },
  {
   "cell_type": "code",
   "execution_count": 20,
   "metadata": {
    "collapsed": false
   },
   "outputs": [],
   "source": [
    "output_Layer1_training = (code_training.to_dense().unsqueeze(0),training_set[1])\n",
    "output_Layer1_testing = (code_testing.to_dense().unsqueeze(0),testing_set[1])"
   ]
  },
  {
   "cell_type": "code",
   "execution_count": 21,
   "metadata": {
    "collapsed": false
   },
   "outputs": [],
   "source": [
    "training_L1_CHAMP = ChangeBatchSize(output_Layer1_training,2000)\n"
   ]
  },
  {
   "cell_type": "code",
   "execution_count": 22,
   "metadata": {
    "collapsed": false
   },
   "outputs": [],
   "source": [
    "from CHAMP.Classif_Layer import Classif_Layer\n",
    "if SaveExp == True:\n",
    "    Classifier_CHAMP = Classif_Layer(nb_dico=8,size_image=OutputL1_size,verbose=0,nb_categories=10)\n",
    "    Classifier_CHAMP = Classifier_CHAMP.train_classif(training_L1_CHAMP,nb_epoch=10000,\\\n",
    "                                   data_test_loader=output_Layer1_testing ,lr=0.005)\n",
    "    SaveNetwork(Classifier_CHAMP, saving_path+'MNIST_ClassifCHAMP.pkl')\n",
    "else : \n",
    "    Classifier_CHAMP = LoadNetwork(saving_path+'MNIST_ClassifCHAMP.pkl')"
   ]
  },
  {
   "cell_type": "code",
   "execution_count": 23,
   "metadata": {
    "collapsed": false
   },
   "outputs": [
    {
     "data": {
      "image/png": "[encoded data removed]",
      "text/plain": [
       "<matplotlib.figure.Figure at 0x1232ba048>"
      ]
     },
     "metadata": {},
     "output_type": "display_data"
    }
   ],
   "source": [
    "DisplayConvergenceClassif(Classifier_CHAMP, to_display=['error','accu'])"
   ]
  },
  {
   "cell_type": "code",
   "execution_count": 24,
   "metadata": {
    "collapsed": false
   },
   "outputs": [
    {
     "name": "stdout",
     "output_type": "stream",
     "text": [
      "best accuracy : 91.25999999999999%\n"
     ]
    }
   ],
   "source": [
    "print('best accuracy : {0}%'.format(Classifier_CHAMP.accuracy_list[-1]*100))"
   ]
  },
  {
   "cell_type": "markdown",
   "metadata": {},
   "source": [
    "## Classyfing output of Convolutional Layer"
   ]
  },
  {
   "cell_type": "code",
   "execution_count": 25,
   "metadata": {
    "collapsed": true
   },
   "outputs": [],
   "source": [
    "SaveExp = False"
   ]
  },
  {
   "cell_type": "code",
   "execution_count": 26,
   "metadata": {
    "collapsed": false
   },
   "outputs": [],
   "source": [
    "Output_L1Conv_training = conv(training_set[0][0,:,:,:,:], DicoGabor)\n",
    "Output_L1Conv_training = (Output_L1Conv_training.unsqueeze(0),training_set[1])\n",
    "Output_L1Conv_testing = conv(testing_set[0][0,:,:,:,:], DicoGabor)\n",
    "Output_L1Conv_testing = (Output_L1Conv_testing.unsqueeze(0),testing_set[1])\n",
    "Output_L1Conv_training  = ChangeBatchSize(Output_L1Conv_training,2000)"
   ]
  },
  {
   "cell_type": "code",
   "execution_count": 27,
   "metadata": {
    "collapsed": false
   },
   "outputs": [],
   "source": [
    "from CHAMP.Classif_Layer import Classif_Layer\n",
    "if SaveExp == True:\n",
    "    Classifier_CONV = Classif_Layer(nb_dico=8,size_image=OutputL1_size,verbose=0,nb_categories=10)\n",
    "    Classifier_CONV = Classifier_CONV.train_classif(Output_L1Conv_training,nb_epoch=10000,\\\n",
    "                                                data_test_loader=Output_L1Conv_testing,lr=0.005)\n",
    "    SaveNetwork(Classifier_CONV, saving_path+'MNIST_ClassifConv.pkl')\n",
    "else : \n",
    "    Classifier_CONV = LoadNetwork(saving_path+'MNIST_ClassifConv.pkl')"
   ]
  },
  {
   "cell_type": "code",
   "execution_count": 28,
   "metadata": {
    "collapsed": false
   },
   "outputs": [
    {
     "data": {
      "image/png": "[encoded data removed]",
      "text/plain": [
       "<matplotlib.figure.Figure at 0x1242b43c8>"
      ]
     },
     "metadata": {},
     "output_type": "display_data"
    }
   ],
   "source": [
    "DisplayConvergenceClassif(Classifier_CONV, to_display=['error','accu'])"
   ]
  },
  {
   "cell_type": "code",
   "execution_count": 29,
   "metadata": {
    "collapsed": false
   },
   "outputs": [
    {
     "name": "stdout",
     "output_type": "stream",
     "text": [
      "best accuracy : 92.58%\n"
     ]
    }
   ],
   "source": [
    "print('best accuracy : {0}%'.format(Classifier_CONV.accuracy_list[-1]*100))"
   ]
  },
  {
   "cell_type": "code",
   "execution_count": null,
   "metadata": {
    "collapsed": true
   },
   "outputs": [],
   "source": []
  }
 ],
 "metadata": {
  "kernelspec": {
   "display_name": "Python 3",
   "language": "python",
   "name": "python3"
  },
  "language_info": {
   "codemirror_mode": {
    "name": "ipython",
    "version": 3
   },
   "file_extension": ".py",
   "mimetype": "text/x-python",
   "name": "python",
   "nbconvert_exporter": "python",
   "pygments_lexer": "ipython3",
   "version": "3.6.1"
  }
 },
 "nbformat": 4,
 "nbformat_minor": 2
}
