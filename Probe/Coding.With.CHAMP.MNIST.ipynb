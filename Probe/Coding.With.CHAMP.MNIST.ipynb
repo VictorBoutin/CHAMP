{
 "cells": [
  {
   "cell_type": "code",
   "execution_count": 18,
   "metadata": {
    "collapsed": false
   },
   "outputs": [
    {
     "name": "stdout",
     "output_type": "stream",
     "text": [
      "The autoreload extension is already loaded. To reload it, use:\n",
      "  %reload_ext autoreload\n"
     ]
    }
   ],
   "source": [
    "%load_ext autoreload\n",
    "%autoreload 2\n",
    "%matplotlib inline\n",
    "from CHAMP.DataLoader import LoadData\n",
    "from CHAMP.Monitor import DisplayDico, DisplayConvergenceClassif\n",
    "#from CHAMP.CHAMP_Layer import ConvMP\n",
    "from CHAMP.CHAMP_Layer import CHAMP_Layer_np\n",
    "from CHAMP.DataTools import GenerateGabor, Rebuilt, ChangeBatchSize\n",
    "from CHAMP.LowLevel import conv\n",
    "from CHAMP.Classif_Layer import Classif_Layer\n",
    "import matplotlib.pyplot as plt\n",
    "import os\n",
    "home = os.getenv('HOME')\n",
    "from CHAMP.DataTools import SaveNetwork, LoadNetwork"
   ]
  },
  {
   "cell_type": "code",
   "execution_count": 6,
   "metadata": {
    "collapsed": true
   },
   "outputs": [],
   "source": [
    "l0 = 20\n",
    "nb_dico = 8\n",
    "dico_size = (5,5)\n",
    "image_size = (28,28)\n",
    "OutputL1_size =tuple(image_size[i]-dico_size[i]+1 for i in range(len(dico_size)))\n",
    "saving_path = 'Records/'\n",
    "lr=0.001\n",
    "mom = 0.9\n",
    "batch_size=2000\n",
    "nb_epochs = 2000"
   ]
  },
  {
   "cell_type": "markdown",
   "metadata": {},
   "source": [
    "# On MNIST DataBase"
   ]
  },
  {
   "cell_type": "markdown",
   "metadata": {},
   "source": [
    "### Load the DataBase"
   ]
  },
  {
   "cell_type": "code",
   "execution_count": 7,
   "metadata": {
    "collapsed": false
   },
   "outputs": [],
   "source": [
    "path = \"../../../Science/These/Rapport d'avancement/database/MNISTtorch/\"\n",
    "#path = home + \"/science/VB_These/Rapport d'avancement/database/Face_DataBase/\"\n",
    "training_set,testing_set = LoadData('MNIST',data_path=path,avg_size=(5,5),GPU=False)"
   ]
  },
  {
   "cell_type": "code",
   "execution_count": 8,
   "metadata": {
    "collapsed": false
   },
   "outputs": [
    {
     "data": {
      "text/plain": [
       "<matplotlib.image.AxesImage at 0x11c4f4358>"
      ]
     },
     "execution_count": 8,
     "metadata": {},
     "output_type": "execute_result"
    },
    {
     "data": {
      "image/png": "[encoded data removed]",
      "text/plain": [
       "<matplotlib.figure.Figure at 0x1183b4320>"
      ]
     },
     "metadata": {},
     "output_type": "display_data"
    }
   ],
   "source": [
    "plt.imshow(training_set[0][0,0,0,:,:].numpy(),cmap='gray')"
   ]
  },
  {
   "cell_type": "markdown",
   "metadata": {},
   "source": [
    "## Classifying Raw data"
   ]
  },
  {
   "cell_type": "code",
   "execution_count": 9,
   "metadata": {
    "collapsed": true
   },
   "outputs": [],
   "source": [
    "SaveExp = False"
   ]
  },
  {
   "cell_type": "code",
   "execution_count": 10,
   "metadata": {
    "collapsed": false
   },
   "outputs": [],
   "source": [
    "batch_training_set = ChangeBatchSize(training_set,batch_size)"
   ]
  },
  {
   "cell_type": "code",
   "execution_count": 11,
   "metadata": {
    "collapsed": false
   },
   "outputs": [],
   "source": [
    "from CHAMP.Classif_Layer import Classif_Layer\n",
    "if SaveExp == True:\n",
    "    Classifier_Raw = Classif_Layer(nb_dico=1,size_image=image_size,nb_categories=10, verbose=0,GPU=False)\n",
    "    Classifier_Raw.TrainClassifier(batch_training_set, nb_epoch=nb_epochs, data_test_loader=testing_set,\\\n",
    "                                   lr=lr, momentum=mom)\n",
    "    SaveNetwork(Classifier_Raw, saving_path+'MNIST_ClassifRaw.pkl')\n",
    "else : \n",
    "    Classifier_Raw = LoadNetwork(saving_path+'MNIST_ClassifRaw.pkl')"
   ]
  },
  {
   "cell_type": "code",
   "execution_count": 12,
   "metadata": {
    "collapsed": false
   },
   "outputs": [
    {
     "name": "stdout",
     "output_type": "stream",
     "text": [
      "best accuracy : 91.9%\n"
     ]
    },
    {
     "data": {
      "image/png": "[encoded data removed]",
      "text/plain": [
       "<matplotlib.figure.Figure at 0x11c5d63c8>"
      ]
     },
     "metadata": {},
     "output_type": "display_data"
    }
   ],
   "source": [
    "print('best accuracy : {0}%'.format(Classifier_Raw.accuracy_list[-1]))\n",
    "DisplayConvergenceClassif(Classifier_Raw, to_display=['error','accu'])"
   ]
  },
  {
   "cell_type": "markdown",
   "metadata": {},
   "source": [
    "### Generate Filters"
   ]
  },
  {
   "cell_type": "code",
   "execution_count": 13,
   "metadata": {
    "collapsed": false
   },
   "outputs": [
    {
     "data": {
      "image/png": "[encoded data removed]",
      "text/plain": [
       "<matplotlib.figure.Figure at 0x11c5d6ac8>"
      ]
     },
     "metadata": {},
     "output_type": "display_data"
    }
   ],
   "source": [
    "DicoGabor = GenerateGabor(nb_dico=nb_dico,dico_size=dico_size,sigma=1.5,lambd=5,gamma=0.5,psi=0,GPU=False)\n",
    "DisplayDico(DicoGabor)"
   ]
  },
  {
   "cell_type": "markdown",
   "metadata": {},
   "source": [
    "## Classifying Data After convolution"
   ]
  },
  {
   "cell_type": "code",
   "execution_count": 14,
   "metadata": {
    "collapsed": true
   },
   "outputs": [],
   "source": [
    "SaveExp = False"
   ]
  },
  {
   "cell_type": "code",
   "execution_count": 15,
   "metadata": {
    "collapsed": false
   },
   "outputs": [],
   "source": [
    "Output_L1Conv_training = conv(training_set[0][0,:,:,:,:], DicoGabor)\n",
    "Output_L1Conv_training = (Output_L1Conv_training.unsqueeze(0),training_set[1])\n",
    "Output_L1Conv_testing = conv(testing_set[0][0,:,:,:,:], DicoGabor)\n",
    "Output_L1Conv_testing = (Output_L1Conv_testing.unsqueeze(0),testing_set[1])\n",
    "Output_L1Conv_training  = ChangeBatchSize(Output_L1Conv_training,batch_size)"
   ]
  },
  {
   "cell_type": "code",
   "execution_count": 16,
   "metadata": {
    "collapsed": false
   },
   "outputs": [],
   "source": [
    "from CHAMP.Classif_Layer import Classif_Layer\n",
    "if SaveExp == True:\n",
    "    Classifier_CONV = Classif_Layer(nb_dico=nb_dico,size_image=OutputL1_size,verbose=0,nb_categories=10,GPU=False)\n",
    "    Classifier_CONV.TrainClassifier(Output_L1Conv_training,nb_epoch=nb_epochs,\\\n",
    "                                                data_test_loader=Output_L1Conv_testing,lr=lr,momentum=mom)\n",
    "    SaveNetwork(Classifier_CONV, saving_path+'MNIST_ClassifConv.pkl')\n",
    "else : \n",
    "    Classifier_CONV = LoadNetwork(saving_path+'MNIST_ClassifConv.pkl')"
   ]
  },
  {
   "cell_type": "code",
   "execution_count": 17,
   "metadata": {
    "collapsed": false
   },
   "outputs": [
    {
     "name": "stdout",
     "output_type": "stream",
     "text": [
      "best accuracy : 92.34%\n"
     ]
    },
    {
     "data": {
      "image/png": "[encoded data removed]",
      "text/plain": [
       "<matplotlib.figure.Figure at 0x1280c3fd0>"
      ]
     },
     "metadata": {},
     "output_type": "display_data"
    }
   ],
   "source": [
    "print('best accuracy : {0}%'.format(Classifier_CONV.accuracy_list[-1]))\n",
    "DisplayConvergenceClassif(Classifier_CONV, to_display=['error','accu'])"
   ]
  },
  {
   "cell_type": "markdown",
   "metadata": {},
   "source": [
    "## Classifying Data After a sparse convolution"
   ]
  },
  {
   "cell_type": "markdown",
   "metadata": {},
   "source": [
    "### Coding and reconstruction"
   ]
  },
  {
   "cell_type": "code",
   "execution_count": 27,
   "metadata": {
    "collapsed": true
   },
   "outputs": [],
   "source": [
    "import time"
   ]
  },
  {
   "cell_type": "code",
   "execution_count": 49,
   "metadata": {
    "collapsed": false
   },
   "outputs": [
    {
     "name": "stdout",
     "output_type": "stream",
     "text": [
      "elapsed :  40.85057616233826\n"
     ]
    }
   ],
   "source": [
    "Conv_Layer = CHAMP_Layer_np(l0_sparseness=l0,nb_dico=nb_dico,dico_size=dico_size)\n",
    "output_Layer1_training = Conv_Layer.RunLayer(training_set, dictionary=DicoGabor)\n",
    "output_Layer1_testing = Conv_Layer.RunLayer(testing_set, dictionary=DicoGabor)"
   ]
  },
  {
   "cell_type": "code",
   "execution_count": 53,
   "metadata": {
    "collapsed": false
   },
   "outputs": [
    {
     "data": {
      "text/plain": [
       "<matplotlib.image.AxesImage at 0x1333946d8>"
      ]
     },
     "execution_count": 53,
     "metadata": {},
     "output_type": "execute_result"
    },
    {
     "data": {
      "image/png": "[encoded data removed]",
      "text/plain": [
       "<matplotlib.figure.Figure at 0x13333b6a0>"
      ]
     },
     "metadata": {},
     "output_type": "display_data"
    }
   ],
   "source": [
    "reconstructed_image = Rebuilt(output_Layer1_training[0][0,:,:,:,:],DicoGabor)\n",
    "plt.imshow(reconstructed_image[0,0,:,:].numpy(),cmap='gray')"
   ]
  },
  {
   "cell_type": "markdown",
   "metadata": {},
   "source": [
    "### Classification"
   ]
  },
  {
   "cell_type": "code",
   "execution_count": 16,
   "metadata": {
    "collapsed": true
   },
   "outputs": [],
   "source": [
    "output_Layer1_training = (code_training.unsqueeze(0),training_set[1])\n",
    "output_Layer1_testing = (code_testing.unsqueeze(0),testing_set[1])"
   ]
  },
  {
   "cell_type": "code",
   "execution_count": 17,
   "metadata": {
    "collapsed": true
   },
   "outputs": [],
   "source": [
    "SaveExp = False\n",
    "training_L1_CHAMP = ChangeBatchSize(output_Layer1_training,batch_size)"
   ]
  },
  {
   "cell_type": "code",
   "execution_count": 18,
   "metadata": {
    "collapsed": false
   },
   "outputs": [],
   "source": [
    "from CHAMP.Classif_Layer import Classif_Layer\n",
    "if SaveExp == True:\n",
    "    Classifier_CHAMP = Classif_Layer(nb_dico=nb_dico,size_image=OutputL1_size,nb_categories=10,verbose=0,GPU=False)\n",
    "    Classifier_CHAMP.TrainClassifier(training_L1_CHAMP,nb_epoch=nb_epochs,\\\n",
    "                                   data_test_loader=output_Layer1_testing ,lr=lr, momentum=mom)\n",
    "    SaveNetwork(Classifier_CHAMP, saving_path+'MNIST_ClassifCHAMP.pkl')\n",
    "else : \n",
    "    Classifier_CHAMP = LoadNetwork(saving_path+'MNIST_ClassifCHAMP.pkl')"
   ]
  },
  {
   "cell_type": "code",
   "execution_count": 19,
   "metadata": {
    "collapsed": false
   },
   "outputs": [
    {
     "name": "stdout",
     "output_type": "stream",
     "text": [
      "best accuracy : 94.25%\n"
     ]
    },
    {
     "data": {
      "image/png": "[encoded data removed]",
      "text/plain": [
       "<matplotlib.figure.Figure at 0x119903da0>"
      ]
     },
     "metadata": {},
     "output_type": "display_data"
    }
   ],
   "source": [
    "print('best accuracy : {0}%'.format(Classifier_CHAMP.accuracy_list[-1]))\n",
    "DisplayConvergenceClassif(Classifier_CHAMP, to_display=['error','accu'])"
   ]
  },
  {
   "cell_type": "code",
   "execution_count": null,
   "metadata": {
    "collapsed": true
   },
   "outputs": [],
   "source": []
  },
  {
   "cell_type": "markdown",
   "metadata": {},
   "source": [
    "## Is Sparse Convolution Good ?"
   ]
  },
  {
   "cell_type": "markdown",
   "metadata": {},
   "source": [
    "All the experiment, are located on Rapport D'avancement/2018-02-01/2018-02-01.ExpGPU_MNIST"
   ]
  },
  {
   "cell_type": "markdown",
   "metadata": {},
   "source": [
    "Performance as a function of the sparsity"
   ]
  },
  {
   "cell_type": "code",
   "execution_count": 20,
   "metadata": {
    "collapsed": true
   },
   "outputs": [],
   "source": [
    "sparsity = [2,5,10,20,50,60,70,80,90,100,150,200]\n",
    "#accuracy = [67.46,87.24,92.47,94.08,94.7,94.73,94.76,94.79,94.82,94.82,94.81,94.82]\n",
    "accuracy = [69.44, 87.41, 93.0, 94.54, 94.83, 95.0, 94.89, 93.99, 94.88, 94.63, 94.49, 94.94]"
   ]
  },
  {
   "cell_type": "code",
   "execution_count": 21,
   "metadata": {
    "collapsed": false
   },
   "outputs": [
    {
     "data": {
      "text/plain": [
       "[<matplotlib.lines.Line2D at 0x119e4c128>]"
      ]
     },
     "execution_count": 21,
     "metadata": {},
     "output_type": "execute_result"
    },
    {
     "data": {
      "image/png": "[encoded data removed]",
      "text/plain": [
       "<matplotlib.figure.Figure at 0x119c18fd0>"
      ]
     },
     "metadata": {},
     "output_type": "display_data"
    }
   ],
   "source": [
    "plt.plot(sparsity,accuracy)"
   ]
  },
  {
   "cell_type": "markdown",
   "metadata": {},
   "source": [
    "Sparse Convolution is better than classical convolution when sparsity >= 10"
   ]
  },
  {
   "cell_type": "code",
   "execution_count": 2,
   "metadata": {
    "collapsed": false
   },
   "outputs": [],
   "source": [
    "import numpy\n",
    "numpy.random.seed(10)"
   ]
  },
  {
   "cell_type": "code",
   "execution_count": null,
   "metadata": {
    "collapsed": true
   },
   "outputs": [],
   "source": []
  }
 ],
 "metadata": {
  "kernelspec": {
   "display_name": "Python 3",
   "language": "python",
   "name": "python3"
  },
  "language_info": {
   "codemirror_mode": {
    "name": "ipython",
    "version": 3
   },
   "file_extension": ".py",
   "mimetype": "text/x-python",
   "name": "python",
   "nbconvert_exporter": "python",
   "pygments_lexer": "ipython3",
   "version": "3.6.1"
  }
 },
 "nbformat": 4,
 "nbformat_minor": 2
}
