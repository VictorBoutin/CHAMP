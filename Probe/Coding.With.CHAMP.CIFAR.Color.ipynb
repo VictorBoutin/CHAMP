{
 "cells": [
  {
   "cell_type": "code",
   "execution_count": 45,
   "metadata": {
    "collapsed": false,
    "scrolled": false
   },
   "outputs": [
    {
     "name": "stdout",
     "output_type": "stream",
     "text": [
      "The autoreload extension is already loaded. To reload it, use:\n",
      "  %reload_ext autoreload\n"
     ]
    }
   ],
   "source": [
    "%load_ext autoreload\n",
    "%autoreload 2\n",
    "%matplotlib inline\n",
    "from CHAMP.DataLoader import LoadData, LoadFaceDB\n",
    "from CHAMP.Monitor import DisplayDico, DisplayConvergenceCHAMP, DisplayConvergenceClassif\n",
    "from CHAMP.CHAMP_Layer import ConvMP\n",
    "from CHAMP.DataTools import GenerateGabor, Rebuilt, ContrastNormalized, ChangeBatchSize\n",
    "import matplotlib.pyplot as plt\n",
    "from CHAMP.LowLevel import conv\n",
    "from CHAMP.Classif_Layer import Classif_Layer\n",
    "import os\n",
    "home = os.getenv('HOME')\n",
    "from CHAMP.DataTools import SaveNetwork, LoadNetwork"
   ]
  },
  {
   "cell_type": "code",
   "execution_count": 46,
   "metadata": {
    "collapsed": true
   },
   "outputs": [],
   "source": [
    "l0 = 100\n",
    "nb_dico = 8\n",
    "dico_size = (5,5)\n",
    "image_size = (32,32)\n",
    "OutputL1_size =tuple(image_size[i]-dico_size[i]+1 for i in range(len(dico_size)))\n",
    "saving_path = 'Records/'"
   ]
  },
  {
   "cell_type": "markdown",
   "metadata": {},
   "source": [
    "# On CIFAR Color DataBase"
   ]
  },
  {
   "cell_type": "markdown",
   "metadata": {},
   "source": [
    "## Load the DataBase"
   ]
  },
  {
   "cell_type": "code",
   "execution_count": 3,
   "metadata": {
    "collapsed": false
   },
   "outputs": [],
   "source": [
    "path = \"../../../Science/These/Rapport d'avancement/database/CIFARtorch/\"\n",
    "#path = home + \"/science/VB_These/Rapport d'avancement/database/Face_DataBase/\"\n",
    "training_set,testing_set = LoadData('CIFAR',data_path=path,avg_size=(5,5),decorrelate=False,Grayscale=False)"
   ]
  },
  {
   "cell_type": "code",
   "execution_count": 30,
   "metadata": {
    "collapsed": true
   },
   "outputs": [],
   "source": [
    "import torch\n",
    "from torch.autograd import Variable\n",
    "from torch.nn.functional import conv2d\n",
    "import pickle\n",
    "import cv2\n",
    "import math\n",
    "from CHAMP.LowLevel import conv, Normalize, padTensor\n",
    "def ContrastNormalized2(data,avg_size=(5,5)):\n",
    "    assert avg_size[1]%2 == 1, 'deccorlation filters size should be odd'\n",
    "    img_size = data[0].size()\n",
    "    output_tensor = torch.FloatTensor(img_size)\n",
    "    to_conv = (torch.ones(avg_size)*1/(avg_size[-1]*avg_size[-1])).view(1,avg_size[0],avg_size[1],avg_size[2])\n",
    "    print(to_conv.size())\n",
    "    for idx_batch, each_batch in enumerate(data[0]):\n",
    "        padded_tensor = padTensor(each_batch,avg_size[1]//2,mode='reflect')\n",
    "        convol = conv(padded_tensor,to_conv)\n",
    "        output_tensor[idx_batch,:,:,:,:] = each_batch - convol\n",
    "    return output_tensor, data[1]"
   ]
  },
  {
   "cell_type": "code",
   "execution_count": 31,
   "metadata": {
    "collapsed": false
   },
   "outputs": [
    {
     "name": "stdout",
     "output_type": "stream",
     "text": [
      "torch.Size([1, 3, 5, 5])\n"
     ]
    }
   ],
   "source": [
    "training_set_norm = ContrastNormalized2(training_set,avg_size=(3,5,5))"
   ]
  },
  {
   "cell_type": "code",
   "execution_count": 6,
   "metadata": {
    "collapsed": false
   },
   "outputs": [
    {
     "name": "stdout",
     "output_type": "stream",
     "text": [
      "torch.Size([1, 50000, 3, 32, 32]) torch.Size([1, 50000, 32, 32, 3])\n"
     ]
    }
   ],
   "source": [
    "test = training_set[0].permute(0,1,3,4,2)\n",
    "print(training_set[0].size(),test.size())"
   ]
  },
  {
   "cell_type": "code",
   "execution_count": 24,
   "metadata": {
    "collapsed": false
   },
   "outputs": [
    {
     "data": {
      "text/plain": [
       "<matplotlib.image.AxesImage at 0x1789bff60>"
      ]
     },
     "execution_count": 24,
     "metadata": {},
     "output_type": "execute_result"
    },
    {
     "data": {
      "image/png": "[encoded data removed]",
      "text/plain": [
       "<matplotlib.figure.Figure at 0x1787352e8>"
      ]
     },
     "metadata": {},
     "output_type": "display_data"
    }
   ],
   "source": [
    "#plt.imshow(test[0,10,:,:,:].numpy())\n",
    "plt.imshow(test[0,10,:,:,0].numpy(),cmap=('gray'))"
   ]
  },
  {
   "cell_type": "code",
   "execution_count": 21,
   "metadata": {
    "collapsed": false
   },
   "outputs": [
    {
     "data": {
      "text/plain": [
       "<matplotlib.image.AxesImage at 0x1796b3d30>"
      ]
     },
     "execution_count": 21,
     "metadata": {},
     "output_type": "execute_result"
    },
    {
     "data": {
      "image/png": "[encoded data removed]",
      "text/plain": [
       "<matplotlib.figure.Figure at 0x17945bc88>"
      ]
     },
     "metadata": {},
     "output_type": "display_data"
    }
   ],
   "source": [
    "plt.imshow(test[0,10,:,:,:].numpy())"
   ]
  },
  {
   "cell_type": "code",
   "execution_count": 9,
   "metadata": {
    "collapsed": true
   },
   "outputs": [],
   "source": [
    "test2 = training_set_norm[0].permute(0,1,3,4,2)"
   ]
  },
  {
   "cell_type": "code",
   "execution_count": 29,
   "metadata": {
    "collapsed": false
   },
   "outputs": [
    {
     "data": {
      "text/plain": [
       "<matplotlib.image.AxesImage at 0x179c954a8>"
      ]
     },
     "execution_count": 29,
     "metadata": {},
     "output_type": "execute_result"
    },
    {
     "data": {
      "image/png": "[encoded data removed]",
      "text/plain": [
       "<matplotlib.figure.Figure at 0x179bb3828>"
      ]
     },
     "metadata": {},
     "output_type": "display_data"
    }
   ],
   "source": [
    "plt.imshow(test2[0,10,:,:,2].numpy(),cmap='gray')"
   ]
  },
  {
   "cell_type": "code",
   "execution_count": 10,
   "metadata": {
    "collapsed": false
   },
   "outputs": [
    {
     "data": {
      "text/plain": [
       "<matplotlib.image.AxesImage at 0x1787d1588>"
      ]
     },
     "execution_count": 10,
     "metadata": {},
     "output_type": "execute_result"
    },
    {
     "data": {
      "image/png": "[encoded data removed]",
      "text/plain": [
       "<matplotlib.figure.Figure at 0x1786df4a8>"
      ]
     },
     "metadata": {},
     "output_type": "display_data"
    }
   ],
   "source": [
    "plt.imshow((test2[0,10,:,:,:].numpy()))"
   ]
  },
  {
   "cell_type": "code",
   "execution_count": null,
   "metadata": {
    "collapsed": true
   },
   "outputs": [],
   "source": []
  },
  {
   "cell_type": "code",
   "execution_count": null,
   "metadata": {
    "collapsed": false
   },
   "outputs": [],
   "source": [
    "path = \"../../../Science/These/Rapport d'avancement/database/CIFARtorch/\"\n",
    "#path = home + \"/science/VB_These/Rapport d'avancement/database/Face_DataBase/\"\n",
    "training_set,testing_set = LoadData('CIFAR',data_path=path,avg_size=(5,5),decorrelate=True)"
   ]
  },
  {
   "cell_type": "code",
   "execution_count": null,
   "metadata": {
    "collapsed": false
   },
   "outputs": [],
   "source": [
    "print(testing_set[0].size())"
   ]
  },
  {
   "cell_type": "code",
   "execution_count": null,
   "metadata": {
    "collapsed": false
   },
   "outputs": [],
   "source": [
    "plot = plt.imshow(testing_set[0][0,0,0,:,:].numpy(),cmap='gray')"
   ]
  },
  {
   "cell_type": "markdown",
   "metadata": {},
   "source": [
    "## Generate Filters"
   ]
  },
  {
   "cell_type": "code",
   "execution_count": null,
   "metadata": {
    "collapsed": false
   },
   "outputs": [],
   "source": [
    "DicoGabor = GenerateGabor(nb_dico=nb_dico,dico_size=dico_size,sigma=1.5,lambd=5,gamma=0.5,psi=0)\n",
    "DisplayDico(DicoGabor)"
   ]
  },
  {
   "cell_type": "markdown",
   "metadata": {},
   "source": [
    "## Coding"
   ]
  },
  {
   "cell_type": "code",
   "execution_count": null,
   "metadata": {
    "collapsed": false
   },
   "outputs": [],
   "source": [
    "code_training = ConvMP(image_input=training_set[0][0,:,:,:,:], dictionary=DicoGabor, l0_sparseness=l0,\n",
    "                modulation=None, verbose=0, train=True, doSym='pos', mask=None,\\\n",
    "                MaskMod='Residual')"
   ]
  },
  {
   "cell_type": "code",
   "execution_count": null,
   "metadata": {
    "collapsed": false
   },
   "outputs": [],
   "source": [
    "reconstructed_image = Rebuilt(training_set[0][0,:,:,:,:],code_training,DicoGabor)"
   ]
  },
  {
   "cell_type": "code",
   "execution_count": null,
   "metadata": {
    "collapsed": false
   },
   "outputs": [],
   "source": [
    "plt.imshow(reconstructed_image[0,0,:,:].numpy(),cmap='gray')"
   ]
  },
  {
   "cell_type": "code",
   "execution_count": null,
   "metadata": {
    "collapsed": true
   },
   "outputs": [],
   "source": [
    "residual=training_set[0][0,:,:,:,:]-reconstructed_image"
   ]
  },
  {
   "cell_type": "code",
   "execution_count": null,
   "metadata": {
    "collapsed": false
   },
   "outputs": [],
   "source": [
    "plt.imshow(residual[0,0,:,:].numpy(),cmap='gray')"
   ]
  },
  {
   "cell_type": "code",
   "execution_count": null,
   "metadata": {
    "collapsed": false
   },
   "outputs": [],
   "source": [
    "code_testing = ConvMP(image_input=testing_set[0][0,:,:,:,:], dictionary=DicoGabor, l0_sparseness=l0,\n",
    "                modulation=None, verbose=0, train=True, doSym='pos', mask=None,\\\n",
    "                MaskMod='Residual')"
   ]
  },
  {
   "cell_type": "markdown",
   "metadata": {},
   "source": [
    "## Classifying Row Data"
   ]
  },
  {
   "cell_type": "code",
   "execution_count": 32,
   "metadata": {
    "collapsed": false
   },
   "outputs": [
    {
     "name": "stderr",
     "output_type": "stream",
     "text": [
      "[autoreload of CHAMP.CHAMP_Layer failed: Traceback (most recent call last):\n",
      "  File \"/usr/local/lib/python3.6/site-packages/IPython/extensions/autoreload.py\", line 247, in check\n",
      "    superreload(m, reload, self.old_objects)\n",
      "ImportError: cannot import name 'unravel_index'\n",
      "]\n"
     ]
    }
   ],
   "source": [
    "SaveExp = False"
   ]
  },
  {
   "cell_type": "code",
   "execution_count": 33,
   "metadata": {
    "collapsed": true
   },
   "outputs": [],
   "source": [
    "batch_training_set = ChangeBatchSize(training_set,batch_size=2000)"
   ]
  },
  {
   "cell_type": "code",
   "execution_count": 35,
   "metadata": {
    "collapsed": false
   },
   "outputs": [],
   "source": [
    "from CHAMP.Classif_Layer import Classif_Layer\n",
    "if SaveExp == True:\n",
    "    Classifier_Raw = Classif_Layer(nb_dico=1,size_image=image_size,nb_categories=10, verbose=0)\n",
    "    Classifier_Raw = Classifier_Raw.train_classif(batch_training_set,nb_epoch=20000,\\\n",
    "                                                  data_test_loader=testing_set,lr=0.003)\n",
    "    SaveNetwork(Classifier_Raw, saving_path+'CIFAR_ClassifRaw.pkl')\n",
    "else : \n",
    "    Classifier_Raw = LoadNetwork(saving_path+'CIFAR_ClassifRaw.pkl')"
   ]
  },
  {
   "cell_type": "code",
   "execution_count": 40,
   "metadata": {
    "collapsed": false
   },
   "outputs": [
    {
     "data": {
      "text/plain": [
       "[<matplotlib.lines.Line2D at 0x19ebf4588>]"
      ]
     },
     "execution_count": 40,
     "metadata": {},
     "output_type": "execute_result"
    },
    {
     "data": {
      "image/png": "[encoded data removed]",
      "text/plain": [
       "<matplotlib.figure.Figure at 0x19e94cd68>"
      ]
     },
     "metadata": {},
     "output_type": "display_data"
    }
   ],
   "source": [
    "plt.plot(Classifier_Raw.accuracy_list)\n",
    "\n",
    "#DisplayConvergenceClassif(Classifier_Raw, to_display=['error','accu'])"
   ]
  },
  {
   "cell_type": "code",
   "execution_count": null,
   "metadata": {
    "collapsed": false
   },
   "outputs": [],
   "source": []
  },
  {
   "cell_type": "markdown",
   "metadata": {},
   "source": [
    "## Classifying Output of One CHAMP Layer"
   ]
  },
  {
   "cell_type": "code",
   "execution_count": null,
   "metadata": {
    "collapsed": true
   },
   "outputs": [],
   "source": [
    "SaveExp = True"
   ]
  },
  {
   "cell_type": "code",
   "execution_count": null,
   "metadata": {
    "collapsed": false
   },
   "outputs": [],
   "source": [
    "output_Layer1_training = (code_training.to_dense().unsqueeze(0),training_set[1])\n",
    "output_Layer1_testing = (code_testing.to_dense().unsqueeze(0),testing_set[1])"
   ]
  },
  {
   "cell_type": "code",
   "execution_count": null,
   "metadata": {
    "collapsed": false
   },
   "outputs": [],
   "source": [
    "training_L1_CHAMP = ChangeBatchSize(output_Layer1_training,5000)\n"
   ]
  },
  {
   "cell_type": "code",
   "execution_count": 41,
   "metadata": {
    "collapsed": false
   },
   "outputs": [],
   "source": [
    "from CHAMP.Classif_Layer import Classif_Layer\n",
    "if SaveExp == True:\n",
    "    Classifier_CHAMP = Classif_Layer(nb_dico=8,size_image=OutputL1_size,verbose=0,nb_categories=10)\n",
    "    Classifier_CHAMP = Classifier_CHAMP.train_classif(training_L1_CHAMP,nb_epoch=20000,\\\n",
    "                                   data_test_loader=output_Layer1_testing ,lr=0.003)\n",
    "    SaveNetwork(Classifier_CHAMP, saving_path+'CIFAR_ClassifCHAMP.pkl')\n",
    "else : \n",
    "    Classifier_CHAMP = LoadNetwork(saving_path+'CIFAR_ClassifCHAMP.pkl')"
   ]
  },
  {
   "cell_type": "code",
   "execution_count": 42,
   "metadata": {
    "collapsed": false
   },
   "outputs": [
    {
     "data": {
      "text/plain": [
       "[<matplotlib.lines.Line2D at 0x19ebaf1d0>]"
      ]
     },
     "execution_count": 42,
     "metadata": {},
     "output_type": "execute_result"
    },
    {
     "data": {
      "image/png": "[encoded data removed]",
      "text/plain": [
       "<matplotlib.figure.Figure at 0x19ebaf390>"
      ]
     },
     "metadata": {},
     "output_type": "display_data"
    }
   ],
   "source": [
    "plt.plot(Classifier_CHAMP.accuracy_list)\n",
    "\n"
   ]
  },
  {
   "cell_type": "code",
   "execution_count": null,
   "metadata": {
    "collapsed": false
   },
   "outputs": [],
   "source": [
    "DisplayConvergenceClassif(Classifier_CHAMP, to_display=['error','accu'])"
   ]
  },
  {
   "cell_type": "code",
   "execution_count": null,
   "metadata": {
    "collapsed": false
   },
   "outputs": [],
   "source": [
    "stop_here"
   ]
  },
  {
   "cell_type": "markdown",
   "metadata": {},
   "source": [
    "## Classyfing output of Convolutional Layer"
   ]
  },
  {
   "cell_type": "code",
   "execution_count": null,
   "metadata": {
    "collapsed": true
   },
   "outputs": [],
   "source": [
    "SaveExp = False"
   ]
  },
  {
   "cell_type": "code",
   "execution_count": null,
   "metadata": {
    "collapsed": false
   },
   "outputs": [],
   "source": [
    "Output_L1Conv_training = conv(training_set[0][0,:,:,:,:], DicoGabor)\n",
    "Output_L1Conv_training = (Output_L1Conv_training.unsqueeze(0),training_set[1])\n",
    "Output_L1Conv_testing = conv(testing_set[0][0,:,:,:,:], DicoGabor)\n",
    "Output_L1Conv_testing = (Output_L1Conv_testing.unsqueeze(0),testing_set[1])\n",
    "Output_L1Conv_training  = ChangeBatchSize(Output_L1Conv_training,2000)"
   ]
  },
  {
   "cell_type": "code",
   "execution_count": 48,
   "metadata": {
    "collapsed": false
   },
   "outputs": [
    {
     "ename": "FileNotFoundError",
     "evalue": "[Errno 2] No such file or directory: 'Records/CIFAR_ClassifCONV.pkl'",
     "output_type": "error",
     "traceback": [
      "\u001b[0;31m---------------------------------------------------------------------------\u001b[0m",
      "\u001b[0;31mFileNotFoundError\u001b[0m                         Traceback (most recent call last)",
      "\u001b[0;32m<ipython-input-48-1f366db200e9>\u001b[0m in \u001b[0;36m<module>\u001b[0;34m()\u001b[0m\n\u001b[1;32m      5\u001b[0m     \u001b[0mSaveNetwork\u001b[0m\u001b[0;34m(\u001b[0m\u001b[0mClassifier_CONV\u001b[0m\u001b[0;34m,\u001b[0m \u001b[0msaving_path\u001b[0m\u001b[0;34m+\u001b[0m\u001b[0;34m'CIFAR_ClassifCONV.pkl'\u001b[0m\u001b[0;34m)\u001b[0m\u001b[0;34m\u001b[0m\u001b[0m\n\u001b[1;32m      6\u001b[0m \u001b[0;32melse\u001b[0m \u001b[0;34m:\u001b[0m\u001b[0;34m\u001b[0m\u001b[0m\n\u001b[0;32m----> 7\u001b[0;31m     \u001b[0mClassifier_CONV\u001b[0m \u001b[0;34m=\u001b[0m \u001b[0mLoadNetwork\u001b[0m\u001b[0;34m(\u001b[0m\u001b[0msaving_path\u001b[0m\u001b[0;34m+\u001b[0m\u001b[0;34m'CIFAR_ClassifCONV.pkl'\u001b[0m\u001b[0;34m)\u001b[0m\u001b[0;34m\u001b[0m\u001b[0m\n\u001b[0m\u001b[1;32m      8\u001b[0m \u001b[0;34m\u001b[0m\u001b[0m\n",
      "\u001b[0;32m/Users/boutin.v/Documents/CHAMP/CHAMP/DataTools.py\u001b[0m in \u001b[0;36mLoadNetwork\u001b[0;34m(loading_path)\u001b[0m\n\u001b[1;32m    107\u001b[0m \u001b[0;34m\u001b[0m\u001b[0m\n\u001b[1;32m    108\u001b[0m \u001b[0;32mdef\u001b[0m \u001b[0mLoadNetwork\u001b[0m\u001b[0;34m(\u001b[0m\u001b[0mloading_path\u001b[0m\u001b[0;34m)\u001b[0m\u001b[0;34m:\u001b[0m\u001b[0;34m\u001b[0m\u001b[0m\n\u001b[0;32m--> 109\u001b[0;31m     \u001b[0;32mwith\u001b[0m \u001b[0mopen\u001b[0m\u001b[0;34m(\u001b[0m\u001b[0mloading_path\u001b[0m\u001b[0;34m,\u001b[0m \u001b[0;34m'rb'\u001b[0m\u001b[0;34m)\u001b[0m \u001b[0;32mas\u001b[0m \u001b[0mfile\u001b[0m\u001b[0;34m:\u001b[0m\u001b[0;34m\u001b[0m\u001b[0m\n\u001b[0m\u001b[1;32m    110\u001b[0m         \u001b[0mNet\u001b[0m \u001b[0;34m=\u001b[0m \u001b[0mpickle\u001b[0m\u001b[0;34m.\u001b[0m\u001b[0mload\u001b[0m\u001b[0;34m(\u001b[0m\u001b[0mfile\u001b[0m\u001b[0;34m)\u001b[0m\u001b[0;34m\u001b[0m\u001b[0m\n\u001b[1;32m    111\u001b[0m     \u001b[0;32mreturn\u001b[0m \u001b[0mNet\u001b[0m\u001b[0;34m\u001b[0m\u001b[0m\n",
      "\u001b[0;31mFileNotFoundError\u001b[0m: [Errno 2] No such file or directory: 'Records/CIFAR_ClassifCONV.pkl'"
     ]
    }
   ],
   "source": [
    "from CHAMP.Classif_Layer import Classif_Layer\n",
    "if SaveExp == True:\n",
    "    Classifier_CONV = Classif_Layer(nb_dico=8,size_image=OutputL1_size,verbose=0,nb_categories=10)\n",
    "    Classifier_CONV = Classifier_CONV.train_classif(Output_L1Conv_training,nb_epoch=20000,\\\n",
    "                                                    data_test_loader=Output_L1Conv_testing,lr=0.003)\n",
    "    SaveNetwork(Classifier_CONV, saving_path+'CIFAR_ClassifCONV.pkl')\n",
    "else : \n",
    "    Classifier_CONV = LoadNetwork(saving_path+'CIFAR_ClassifCONV.pkl')\n",
    "    "
   ]
  },
  {
   "cell_type": "code",
   "execution_count": null,
   "metadata": {
    "collapsed": false
   },
   "outputs": [],
   "source": [
    "DisplayConvergenceClassif(Classifier_CONV, to_display=['error','accu'])"
   ]
  },
  {
   "cell_type": "markdown",
   "metadata": {
    "collapsed": true
   },
   "source": [
    "# On CIFAR DataBase in Color"
   ]
  },
  {
   "cell_type": "code",
   "execution_count": null,
   "metadata": {
    "collapsed": false
   },
   "outputs": [],
   "source": []
  },
  {
   "cell_type": "code",
   "execution_count": null,
   "metadata": {
    "collapsed": false
   },
   "outputs": [],
   "source": [
    "print(testing_set[0].size())"
   ]
  },
  {
   "cell_type": "code",
   "execution_count": null,
   "metadata": {
    "collapsed": false
   },
   "outputs": [],
   "source": []
  },
  {
   "cell_type": "code",
   "execution_count": null,
   "metadata": {
    "collapsed": false
   },
   "outputs": [],
   "source": [
    "training_set = ContrastNormalized2(training_set,avg_size=(3,5,5))"
   ]
  },
  {
   "cell_type": "code",
   "execution_count": null,
   "metadata": {
    "collapsed": false
   },
   "outputs": [],
   "source": [
    "test = training_set[0].permute(0,1,3,4,2)\n",
    "print(test.size())"
   ]
  },
  {
   "cell_type": "code",
   "execution_count": null,
   "metadata": {
    "collapsed": false
   },
   "outputs": [],
   "source": []
  },
  {
   "cell_type": "code",
   "execution_count": null,
   "metadata": {
    "collapsed": true
   },
   "outputs": [],
   "source": []
  }
 ],
 "metadata": {
  "kernelspec": {
   "display_name": "Python 3",
   "language": "python",
   "name": "python3"
  },
  "language_info": {
   "codemirror_mode": {
    "name": "ipython",
    "version": 3
   },
   "file_extension": ".py",
   "mimetype": "text/x-python",
   "name": "python",
   "nbconvert_exporter": "python",
   "pygments_lexer": "ipython3",
   "version": "3.6.1"
  }
 },
 "nbformat": 4,
 "nbformat_minor": 2
}
