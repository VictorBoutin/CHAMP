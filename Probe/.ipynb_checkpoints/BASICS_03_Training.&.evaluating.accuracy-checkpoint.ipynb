{
 "cells": [
  {
   "cell_type": "code",
   "execution_count": 3,
   "metadata": {
    "collapsed": false
   },
   "outputs": [
    {
     "name": "stdout",
     "output_type": "stream",
     "text": [
      "The autoreload extension is already loaded. To reload it, use:\n",
      "  %reload_ext autoreload\n"
     ]
    }
   ],
   "source": [
    "%load_ext autoreload\n",
    "%autoreload 2\n",
    "%matplotlib inline"
   ]
  },
  {
   "cell_type": "code",
   "execution_count": 4,
   "metadata": {
    "collapsed": false
   },
   "outputs": [],
   "source": [
    "import numpy as np\n",
    "import matplotlib.pyplot as plt\n",
    "\n",
    "\n",
    "from HOTS.Event import Event\n",
    "\n",
    "from HOTS.Layer import Filter, ClusteringLayer, FilterNHBD\n",
    "from HOTS.Monitor import DisplayImage, DisplayHisto\n",
    "from HOTS.Tools import SaveObject, LoadObject, GenerateHistogram\n",
    "from HOTS.Classifier import Classifier\n",
    "\n",
    "from HOTS.Tools import EuclidianNorm, BattachaNorm, NormalizedNorm\n"
   ]
  },
  {
   "cell_type": "markdown",
   "metadata": {},
   "source": [
    "# Defining General Parameter"
   ]
  },
  {
   "cell_type": "code",
   "execution_count": null,
   "metadata": {
    "collapsed": true
   },
   "outputs": [],
   "source": [
    "SaveCluster = True\n",
    "LoadCluster = True\n",
    "\n",
    "ClusterFile = '../Records/ClassifyingNotebook/Clusters.pkl'\n",
    "tau = 0.02\n",
    "R = 2\n",
    "nb_cluster = 4\n",
    "ImageSize = (32,32)"
   ]
  },
  {
   "cell_type": "markdown",
   "metadata": {},
   "source": [
    "## Training the Cluster on 5 images"
   ]
  },
  {
   "cell_type": "code",
   "execution_count": null,
   "metadata": {
    "collapsed": false
   },
   "outputs": [],
   "source": [
    "image_list = [1, 32, 19, 22, 29]\n",
    "event0 = Event(ImageSize=(32,32), ListPolarities=[-1,1])\n",
    "\n",
    "event0.LoadFromMat('../Data/ExtractedStabilized.mat',image_number=image_list)\n",
    "\n",
    "InputFilter = Filter(event0)\n",
    "\n",
    "\n",
    "\n",
    "\n",
    "\n",
    "event1 = InputFilter.FilterNHBD(threshold=15,neighbourhood=2)\n",
    "L1 = ClusteringLayer(event1, tau=tau, R=R, verbose=1)\n",
    "event2, ClusterLayer1= L1.TrainLayer(nb_cluster=nb_cluster)\n",
    "L2 = ClusteringLayer(event2, tau=10*tau, R=2*R, verbose=1)\n",
    "event3, ClusterLayer2 = L2.TrainLayer(nb_cluster=2*nb_cluster)\n",
    "L3 = ClusteringLayer(event3, tau=10*10*tau, R=2*2*R, verbose=1)\n",
    "\n",
    "\n",
    "event4, ClusterLayer3 = L3.TrainLayer(nb_cluster=2*2*nb_cluster)\n",
    "\n",
    "\n",
    "if SaveCluster==True:\n",
    "    SaveObject([ClusterLayer1,ClusterLayer2,ClusterLayer3],ClusterFile)"
   ]
  },
  {
   "cell_type": "markdown",
   "metadata": {},
   "source": [
    "## Generating Histogram for the training samples"
   ]
  },
  {
   "cell_type": "code",
   "execution_count": null,
   "metadata": {
    "collapsed": false
   },
   "outputs": [],
   "source": [
    "if LoadCluster==True:\n",
    "    ClusterLayer1, ClausterLayer2, ClusterLayer3 = LoadObject(ClusterFile)\n",
    "\n",
    "training_sample = list(np.arange(36))\n",
    "event0_tr = Event(ImageSize=(32,32), ListPolarities=[-1,1])\n",
    "\n",
    "event0_tr.LoadFromMat('../Data/ExtractedStabilized.mat',image_number=training_sample)\n",
    "\n",
    "InputFilter = Filter(event0_tr)\n",
    "event1_tr = InputFilter.FilterNHBD(threshold=15,neighbourhood=2)\n",
    "\n",
    "L1 = ClusteringLayer(event1_tr,verbose=0)\n",
    "event2_tr = L1.RunLayer(tau=tau, R=R, Cluster=ClusterLayer1)\n",
    "L2 = ClusteringLayer(event2_tr,verbose=0)\n",
    "event3_tr = L2.RunLayer(tau=10*tau, R=2*R, Cluster=ClusterLayer2)\n",
    "L3 = ClusteringLayer(event3_tr,verbose=0)\n",
    "event4_tr = L3.RunLayer(tau=10*10*tau, R= 2*2*R, Cluster=ClusterLayer3)"
   ]
  },
  {
   "cell_type": "markdown",
   "metadata": {},
   "source": [
    "## Generating Histograms for the test sample"
   ]
  },
  {
   "cell_type": "code",
   "execution_count": null,
   "metadata": {
    "collapsed": false
   },
   "outputs": [],
   "source": [
    "if LoadCluster==True:\n",
    "    ClusterLayer1, ClausterLayer2, ClusterLayer3 = LoadObject(ClusterFile)\n",
    "\n",
    "training_sample = list(np.arange(36,76))\n",
    "event0_te = Event(ImageSize=(32,32), ListPolarities=[-1,1])\n",
    "\n",
    "event0_te.LoadFromMat('../Data/ExtractedStabilized.mat',image_number=training_sample)\n",
    "\n",
    "InputFilter = Filter(event0_te)\n",
    "event1_te = InputFilter.FilterNHBD(threshold=15,neighbourhood=2)\n",
    "\n",
    "L1 = ClusteringLayer(event1_te,verbose=0)\n",
    "event2_te = L1.RunLayer(tau=tau, R=R, Cluster=ClusterLayer1)\n",
    "L2 = ClusteringLayer(event2_te,verbose=0)\n",
    "event3_te = L2.RunLayer(tau=10*tau, R=2*R, Cluster=ClusterLayer2)\n",
    "L3 = ClusteringLayer(event3_te,verbose=0)\n",
    "event4_te = L3.RunLayer(tau=10*10*tau, R= 2*2*R, Cluster=ClusterLayer3)"
   ]
  },
  {
   "cell_type": "code",
   "execution_count": null,
   "metadata": {
    "collapsed": false
   },
   "outputs": [],
   "source": [
    "label_list=LoadObject('../Data/alphabet_label.pkl')\n",
    "## Generate Groud Truth Label\n",
    "for idx,img in enumerate(training_sample):\n",
    "    if idx!= 0:\n",
    "        test_label = np.vstack((test_label,label_list[img]))\n",
    "    else:\n",
    "        test_label = label_list[img]"
   ]
  },
  {
   "cell_type": "code",
   "execution_count": null,
   "metadata": {
    "collapsed": false
   },
   "outputs": [],
   "source": []
  },
  {
   "cell_type": "code",
   "execution_count": null,
   "metadata": {
    "collapsed": true
   },
   "outputs": [],
   "source": []
  },
  {
   "cell_type": "code",
   "execution_count": null,
   "metadata": {
    "collapsed": false
   },
   "outputs": [],
   "source": [
    "Classif0 = Classifier(event4_tr,event4_te,TrainingLabel=label_list, GroundTruth=test_label)\n",
    "_,_,_ = Classif0.HistogramDistance()\n"
   ]
  },
  {
   "cell_type": "code",
   "execution_count": 7,
   "metadata": {
    "collapsed": false
   },
   "outputs": [
    {
     "ename": "NameError",
     "evalue": "name 'stop_here' is not defined",
     "output_type": "error",
     "traceback": [
      "\u001b[0;31m---------------------------------------------------------------------------\u001b[0m",
      "\u001b[0;31mNameError\u001b[0m                                 Traceback (most recent call last)",
      "\u001b[0;32m<ipython-input-7-ee7ee840f3f4>\u001b[0m in \u001b[0;36m<module>\u001b[0;34m()\u001b[0m\n\u001b[0;32m----> 1\u001b[0;31m \u001b[0mstop_here\u001b[0m\u001b[0;34m\u001b[0m\u001b[0m\n\u001b[0m",
      "\u001b[0;31mNameError\u001b[0m: name 'stop_here' is not defined"
     ]
    }
   ],
   "source": [
    "stop_here"
   ]
  },
  {
   "cell_type": "code",
   "execution_count": 8,
   "metadata": {
    "collapsed": true
   },
   "outputs": [],
   "source": [
    "tau = 0.02\n",
    "R = 2\n",
    "nb_cluster = 4\n",
    "ImageSize = (32,32)"
   ]
  },
  {
   "cell_type": "code",
   "execution_count": 10,
   "metadata": {
    "collapsed": false
   },
   "outputs": [],
   "source": [
    "class Network(object):\n",
    "    def __init__(self,Layers):\n",
    "        self.Layers = Layers\n",
    "        \n",
    "    def TrainCluster(self,event,nb_cluster):\n",
    "        for idx_Layer,each_Layer in enumerate(self.Layers):\n",
    "            if self.each_Layers.type == 'void':\n",
    "                print('problem !!' )\n",
    "            elif self.each_Layers.type == 'Filter':\n",
    "                print('filter')\n",
    "            elif self.each_Layers.type == 'Layer':\n",
    "                print('Layer')\n",
    "                "
   ]
  },
  {
   "cell_type": "code",
   "execution_count": null,
   "metadata": {
    "collapsed": true
   },
   "outputs": [],
   "source": []
  },
  {
   "cell_type": "code",
   "execution_count": 11,
   "metadata": {
    "collapsed": false
   },
   "outputs": [],
   "source": [
    "event0_void = Event(ImageSize=(32,32), ListPolarities=[-1,1])\n",
    "InputFilter = FilterNHBD(event0_void, threshold=15,neighbourhood=2)\n",
    "L1 = ClusteringLayer(event0_void, tau=tau, R=R, verbose=1)\n",
    "L2 = ClusteringLayer(event0_void, tau=10*tau, R=2*R, verbose=1)\n",
    "L3 = ClusteringLayer(event0_void, tau=10*10*tau, R=2*2*R, verbose=1)\n",
    "\n",
    "Layers = [event0_void,InputFilter,L1,L2,L3]"
   ]
  },
  {
   "cell_type": "code",
   "execution_count": 12,
   "metadata": {
    "collapsed": false
   },
   "outputs": [
    {
     "data": {
      "text/plain": [
       "<__main__.Network at 0x10a9c9278>"
      ]
     },
     "execution_count": 12,
     "metadata": {},
     "output_type": "execute_result"
    }
   ],
   "source": [
    "Network(Layers)"
   ]
  },
  {
   "cell_type": "code",
   "execution_count": 5,
   "metadata": {
    "collapsed": false
   },
   "outputs": [
    {
     "ename": "NameError",
     "evalue": "name 'InputFilter' is not defined",
     "output_type": "error",
     "traceback": [
      "\u001b[0;31m---------------------------------------------------------------------------\u001b[0m",
      "\u001b[0;31mNameError\u001b[0m                                 Traceback (most recent call last)",
      "\u001b[0;32m<ipython-input-5-46109f64a12b>\u001b[0m in \u001b[0;36m<module>\u001b[0;34m()\u001b[0m\n\u001b[0;32m----> 1\u001b[0;31m \u001b[0mevent1\u001b[0m \u001b[0;34m=\u001b[0m \u001b[0mInputFilter\u001b[0m\u001b[0;34m.\u001b[0m\u001b[0mFilterNHBD\u001b[0m\u001b[0;34m(\u001b[0m\u001b[0mthreshold\u001b[0m\u001b[0;34m=\u001b[0m\u001b[0;36m15\u001b[0m\u001b[0;34m,\u001b[0m\u001b[0mneighbourhood\u001b[0m\u001b[0;34m=\u001b[0m\u001b[0;36m2\u001b[0m\u001b[0;34m)\u001b[0m\u001b[0;34m\u001b[0m\u001b[0m\n\u001b[0m\u001b[1;32m      2\u001b[0m \u001b[0mL1\u001b[0m \u001b[0;34m=\u001b[0m \u001b[0mClusteringLayer\u001b[0m\u001b[0;34m(\u001b[0m\u001b[0mevent1\u001b[0m\u001b[0;34m,\u001b[0m \u001b[0mtau\u001b[0m\u001b[0;34m=\u001b[0m\u001b[0mtau\u001b[0m\u001b[0;34m,\u001b[0m \u001b[0mR\u001b[0m\u001b[0;34m=\u001b[0m\u001b[0mR\u001b[0m\u001b[0;34m,\u001b[0m \u001b[0mverbose\u001b[0m\u001b[0;34m=\u001b[0m\u001b[0;36m1\u001b[0m\u001b[0;34m)\u001b[0m\u001b[0;34m\u001b[0m\u001b[0m\n\u001b[1;32m      3\u001b[0m \u001b[0mevent2\u001b[0m\u001b[0;34m,\u001b[0m \u001b[0mClusterLayer1\u001b[0m\u001b[0;34m=\u001b[0m \u001b[0mL1\u001b[0m\u001b[0;34m.\u001b[0m\u001b[0mTrainLayer\u001b[0m\u001b[0;34m(\u001b[0m\u001b[0mnb_cluster\u001b[0m\u001b[0;34m=\u001b[0m\u001b[0mnb_cluster\u001b[0m\u001b[0;34m)\u001b[0m\u001b[0;34m\u001b[0m\u001b[0m\n\u001b[1;32m      4\u001b[0m \u001b[0mL2\u001b[0m \u001b[0;34m=\u001b[0m \u001b[0mClusteringLayer\u001b[0m\u001b[0;34m(\u001b[0m\u001b[0mevent2\u001b[0m\u001b[0;34m,\u001b[0m \u001b[0mtau\u001b[0m\u001b[0;34m=\u001b[0m\u001b[0;36m10\u001b[0m\u001b[0;34m*\u001b[0m\u001b[0mtau\u001b[0m\u001b[0;34m,\u001b[0m \u001b[0mR\u001b[0m\u001b[0;34m=\u001b[0m\u001b[0;36m2\u001b[0m\u001b[0;34m*\u001b[0m\u001b[0mR\u001b[0m\u001b[0;34m,\u001b[0m \u001b[0mverbose\u001b[0m\u001b[0;34m=\u001b[0m\u001b[0;36m1\u001b[0m\u001b[0;34m)\u001b[0m\u001b[0;34m\u001b[0m\u001b[0m\n\u001b[1;32m      5\u001b[0m \u001b[0mevent3\u001b[0m\u001b[0;34m,\u001b[0m \u001b[0mClusterLayer2\u001b[0m \u001b[0;34m=\u001b[0m \u001b[0mL2\u001b[0m\u001b[0;34m.\u001b[0m\u001b[0mTrainLayer\u001b[0m\u001b[0;34m(\u001b[0m\u001b[0mnb_cluster\u001b[0m\u001b[0;34m=\u001b[0m\u001b[0;36m2\u001b[0m\u001b[0;34m*\u001b[0m\u001b[0mnb_cluster\u001b[0m\u001b[0;34m)\u001b[0m\u001b[0;34m\u001b[0m\u001b[0m\n",
      "\u001b[0;31mNameError\u001b[0m: name 'InputFilter' is not defined"
     ]
    }
   ],
   "source": []
  },
  {
   "cell_type": "code",
   "execution_count": null,
   "metadata": {
    "collapsed": false
   },
   "outputs": [],
   "source": []
  },
  {
   "cell_type": "code",
   "execution_count": null,
   "metadata": {
    "collapsed": false
   },
   "outputs": [],
   "source": []
  },
  {
   "cell_type": "code",
   "execution_count": null,
   "metadata": {
    "collapsed": false
   },
   "outputs": [],
   "source": []
  },
  {
   "cell_type": "code",
   "execution_count": null,
   "metadata": {
    "collapsed": false
   },
   "outputs": [],
   "source": [
    "\n"
   ]
  },
  {
   "cell_type": "code",
   "execution_count": null,
   "metadata": {
    "collapsed": false
   },
   "outputs": [],
   "source": []
  },
  {
   "cell_type": "code",
   "execution_count": null,
   "metadata": {
    "collapsed": false
   },
   "outputs": [],
   "source": []
  },
  {
   "cell_type": "code",
   "execution_count": null,
   "metadata": {
    "collapsed": true
   },
   "outputs": [],
   "source": []
  },
  {
   "cell_type": "code",
   "execution_count": null,
   "metadata": {
    "collapsed": true
   },
   "outputs": [],
   "source": []
  }
 ],
 "metadata": {
  "kernelspec": {
   "display_name": "Python 3",
   "language": "python",
   "name": "python3"
  },
  "language_info": {
   "codemirror_mode": {
    "name": "ipython",
    "version": 3
   },
   "file_extension": ".py",
   "mimetype": "text/x-python",
   "name": "python",
   "nbconvert_exporter": "python",
   "pygments_lexer": "ipython3",
   "version": "3.6.1"
  }
 },
 "nbformat": 4,
 "nbformat_minor": 2
}
