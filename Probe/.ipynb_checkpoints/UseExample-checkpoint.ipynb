{
 "cells": [
  {
   "cell_type": "code",
   "execution_count": 1,
   "metadata": {
    "ExecuteTime": {
     "end_time": "2018-01-24T15:39:09.375459Z",
     "start_time": "2018-01-24T15:39:08.425283Z"
    }
   },
   "outputs": [],
   "source": [
    "%load_ext autoreload\n",
    "%autoreload 2\n",
    "%matplotlib inline\n",
    "from CHAMP.DataLoader import LoadFaceDB\n",
    "from CHAMP.Monitor import DisplayDico, DisplayConvergenceCHAMP\n",
    "from CHAMP.CHAMP_Layer import CHAMP_Layer"
   ]
  },
  {
   "cell_type": "code",
   "execution_count": 2,
   "metadata": {
    "ExecuteTime": {
     "end_time": "2018-01-24T15:39:09.405731Z",
     "start_time": "2018-01-24T15:39:09.377601Z"
    }
   },
   "outputs": [],
   "source": [
    "nb_dico = 13\n",
    "eta = 0.02\n",
    "nb_epoch = 100"
   ]
  },
  {
   "cell_type": "code",
   "execution_count": 3,
   "metadata": {
    "ExecuteTime": {
     "end_time": "2018-01-24T15:39:09.439821Z",
     "start_time": "2018-01-24T15:39:09.407902Z"
    }
   },
   "outputs": [],
   "source": [
    "import os\n",
    "home = os.getenv('HOME')"
   ]
  },
  {
   "cell_type": "code",
   "execution_count": 4,
   "metadata": {
    "ExecuteTime": {
     "end_time": "2018-01-24T15:39:10.090355Z",
     "start_time": "2018-01-24T15:39:09.441857Z"
    }
   },
   "outputs": [],
   "source": [
    "path = \"../../../Science/These/Rapport d'avancement/database/Face_DataBase/\"\n",
    "path = home + \"/science/VB_These/Rapport d'avancement/database/Face_DataBase/\"\n",
    "training_set = LoadFaceDB(path, nb_batch=1,Decorrelated=True,Normalized=False)"
   ]
  },
  {
   "cell_type": "code",
   "execution_count": 5,
   "metadata": {
    "ExecuteTime": {
     "end_time": "2018-01-24T15:39:11.568093Z",
     "start_time": "2018-01-24T15:39:10.092629Z"
    }
   },
   "outputs": [
    {
     "ename": "TypeError",
     "evalue": "mul received an invalid combination of arguments - got (torch.ByteTensor), but expected one of:\n * (float value)\n      didn't match because some of the arguments have invalid types: (\u001b[31;1mtorch.ByteTensor\u001b[0m)\n * (torch.FloatTensor other)\n      didn't match because some of the arguments have invalid types: (\u001b[31;1mtorch.ByteTensor\u001b[0m)\n",
     "output_type": "error",
     "traceback": [
      "\u001b[0;31m---------------------------------------------------------------------------\u001b[0m",
      "\u001b[0;31mTypeError\u001b[0m                                 Traceback (most recent call last)",
      "\u001b[0;32m<ipython-input-5-566127378859>\u001b[0m in \u001b[0;36m<module>\u001b[0;34m()\u001b[0m\n\u001b[1;32m      1\u001b[0m ChampLayer = CHAMP_Layer(l0_sparseness=40, sigma=0.5, nb_dico=nb_dico, verbose=4,\n\u001b[1;32m      2\u001b[0m                          dico_size=(17,17),doSym=False, FilterStyle='GaussianBinary', MaskMod='Residual')\n\u001b[0;32m----> 3\u001b[0;31m \u001b[0mdico\u001b[0m \u001b[0;34m=\u001b[0m \u001b[0mChampLayer\u001b[0m\u001b[0;34m.\u001b[0m\u001b[0mTrainLayer\u001b[0m\u001b[0;34m(\u001b[0m\u001b[0mtraining_set\u001b[0m\u001b[0;34m,\u001b[0m \u001b[0meta\u001b[0m\u001b[0;34m=\u001b[0m\u001b[0meta\u001b[0m\u001b[0;34m,\u001b[0m \u001b[0meta_homeo\u001b[0m\u001b[0;34m=\u001b[0m\u001b[0;32mNone\u001b[0m\u001b[0;34m,\u001b[0m \u001b[0mnb_epoch\u001b[0m\u001b[0;34m=\u001b[0m\u001b[0mnb_epoch\u001b[0m\u001b[0;34m)\u001b[0m\u001b[0;34m\u001b[0m\u001b[0m\n\u001b[0m",
      "\u001b[0;32m~/pool/science/CHAMP/CHAMP/CHAMP_Layer.py\u001b[0m in \u001b[0;36mTrainLayer\u001b[0;34m(self, data_set, eta, nb_epoch, eta_homeo, nb_record)\u001b[0m\n\u001b[1;32m     66\u001b[0m                 return_fn = self.CodingCHAMP(image, self.dictionary,\n\u001b[1;32m     67\u001b[0m                                 \u001b[0ml0_sparseness\u001b[0m\u001b[0;34m=\u001b[0m\u001b[0mself\u001b[0m\u001b[0;34m.\u001b[0m\u001b[0ml0_sparseness\u001b[0m\u001b[0;34m,\u001b[0m \u001b[0mmodulation\u001b[0m\u001b[0;34m=\u001b[0m\u001b[0mmodulation\u001b[0m\u001b[0;34m,\u001b[0m \u001b[0mtrain\u001b[0m\u001b[0;34m=\u001b[0m\u001b[0;32mTrue\u001b[0m\u001b[0;34m,\u001b[0m\u001b[0;34m\u001b[0m\u001b[0m\n\u001b[0;32m---> 68\u001b[0;31m                                 doSym=self.doSym, sigma=self.sigma, style=self.FilterStyle)\n\u001b[0m\u001b[1;32m     69\u001b[0m                 \u001b[0mcode\u001b[0m\u001b[0;34m,\u001b[0m \u001b[0mres\u001b[0m\u001b[0;34m,\u001b[0m \u001b[0mnb_activation\u001b[0m\u001b[0;34m,\u001b[0m \u001b[0mresidual_patch\u001b[0m \u001b[0;34m=\u001b[0m \u001b[0mreturn_fn\u001b[0m\u001b[0;34m\u001b[0m\u001b[0m\n\u001b[1;32m     70\u001b[0m                 self.dictionary.data.add_(residual_patch.mul_(\n",
      "\u001b[0;32m~/pool/science/CHAMP/CHAMP/CHAMP_Layer.py\u001b[0m in \u001b[0;36mCodingCHAMP\u001b[0;34m(self, image_input, dictionary, l0_sparseness, modulation, verbose, train, doSym, sigma, style)\u001b[0m\n\u001b[1;32m    137\u001b[0m                     \u001b[0m_\u001b[0m\u001b[0;34m,\u001b[0m \u001b[0mm_ind\u001b[0m \u001b[0;34m=\u001b[0m \u001b[0mtorch\u001b[0m\u001b[0;34m.\u001b[0m\u001b[0mmax\u001b[0m\u001b[0;34m(\u001b[0m\u001b[0mtorch\u001b[0m\u001b[0;34m.\u001b[0m\u001b[0mabs\u001b[0m\u001b[0;34m(\u001b[0m\u001b[0mConvMod\u001b[0m\u001b[0;34m)\u001b[0m\u001b[0;34m,\u001b[0m \u001b[0;36m0\u001b[0m\u001b[0;34m)\u001b[0m\u001b[0;34m\u001b[0m\u001b[0m\n\u001b[1;32m    138\u001b[0m                 \u001b[0;32melse\u001b[0m\u001b[0;34m:\u001b[0m\u001b[0;34m\u001b[0m\u001b[0m\n\u001b[0;32m--> 139\u001b[0;31m                     \u001b[0m_\u001b[0m\u001b[0;34m,\u001b[0m \u001b[0mm_ind\u001b[0m \u001b[0;34m=\u001b[0m \u001b[0mtorch\u001b[0m\u001b[0;34m.\u001b[0m\u001b[0mmax\u001b[0m\u001b[0;34m(\u001b[0m\u001b[0mConvMod\u001b[0m \u001b[0;34m*\u001b[0m \u001b[0;34m(\u001b[0m\u001b[0mConvMod\u001b[0m\u001b[0;34m>\u001b[0m\u001b[0;36m0\u001b[0m\u001b[0;34m)\u001b[0m\u001b[0;34m,\u001b[0m \u001b[0;36m0\u001b[0m\u001b[0;34m)\u001b[0m\u001b[0;34m\u001b[0m\u001b[0m\n\u001b[0m\u001b[1;32m    140\u001b[0m                 \u001b[0mindice\u001b[0m \u001b[0;34m=\u001b[0m \u001b[0mnp\u001b[0m\u001b[0;34m.\u001b[0m\u001b[0munravel_index\u001b[0m\u001b[0;34m(\u001b[0m\u001b[0mint\u001b[0m\u001b[0;34m(\u001b[0m\u001b[0mm_ind\u001b[0m\u001b[0;34m.\u001b[0m\u001b[0mnumpy\u001b[0m\u001b[0;34m(\u001b[0m\u001b[0;34m)\u001b[0m\u001b[0;34m)\u001b[0m\u001b[0;34m,\u001b[0m \u001b[0mConv_size\u001b[0m\u001b[0;34m)\u001b[0m\u001b[0;34m\u001b[0m\u001b[0m\n\u001b[1;32m    141\u001b[0m                 \u001b[0mm_value\u001b[0m \u001b[0;34m=\u001b[0m \u001b[0mConv_one_image\u001b[0m\u001b[0;34m[\u001b[0m\u001b[0mm_ind\u001b[0m\u001b[0;34m]\u001b[0m\u001b[0;34m\u001b[0m\u001b[0m\n",
      "\u001b[0;32m/usr/local/lib/python3.6/site-packages/torch/tensor.py\u001b[0m in \u001b[0;36m__mul__\u001b[0;34m(self, other)\u001b[0m\n\u001b[1;32m    307\u001b[0m \u001b[0;34m\u001b[0m\u001b[0m\n\u001b[1;32m    308\u001b[0m     \u001b[0;32mdef\u001b[0m \u001b[0m__mul__\u001b[0m\u001b[0;34m(\u001b[0m\u001b[0mself\u001b[0m\u001b[0;34m,\u001b[0m \u001b[0mother\u001b[0m\u001b[0;34m)\u001b[0m\u001b[0;34m:\u001b[0m\u001b[0;34m\u001b[0m\u001b[0m\n\u001b[0;32m--> 309\u001b[0;31m         \u001b[0;32mreturn\u001b[0m \u001b[0mself\u001b[0m\u001b[0;34m.\u001b[0m\u001b[0mmul\u001b[0m\u001b[0;34m(\u001b[0m\u001b[0mother\u001b[0m\u001b[0;34m)\u001b[0m\u001b[0;34m\u001b[0m\u001b[0m\n\u001b[0m\u001b[1;32m    310\u001b[0m     \u001b[0m__rmul__\u001b[0m \u001b[0;34m=\u001b[0m \u001b[0m__mul__\u001b[0m\u001b[0;34m\u001b[0m\u001b[0m\n\u001b[1;32m    311\u001b[0m \u001b[0;34m\u001b[0m\u001b[0m\n",
      "\u001b[0;31mTypeError\u001b[0m: mul received an invalid combination of arguments - got (torch.ByteTensor), but expected one of:\n * (float value)\n      didn't match because some of the arguments have invalid types: (\u001b[31;1mtorch.ByteTensor\u001b[0m)\n * (torch.FloatTensor other)\n      didn't match because some of the arguments have invalid types: (\u001b[31;1mtorch.ByteTensor\u001b[0m)\n"
     ]
    }
   ],
   "source": [
    "ChampLayer = CHAMP_Layer(l0_sparseness=40, sigma=0.5, nb_dico=nb_dico, verbose=4,\n",
    "                         dico_size=(17,17),doSym=False, FilterStyle='GaussianBinary', MaskMod='Residual')\n",
    "dico = ChampLayer.TrainLayer(training_set, eta=eta, eta_homeo=None, nb_epoch=nb_epoch)"
   ]
  },
  {
   "cell_type": "code",
   "execution_count": null,
   "metadata": {
    "ExecuteTime": {
     "end_time": "2018-01-24T15:39:11.569464Z",
     "start_time": "2018-01-24T15:39:08.441Z"
    }
   },
   "outputs": [],
   "source": [
    "DisplayConvergenceCHAMP(ChampLayer,['error','histo'])\n",
    "DisplayDico(ChampLayer.dictionary)"
   ]
  },
  {
   "cell_type": "code",
   "execution_count": null,
   "metadata": {
    "ExecuteTime": {
     "end_time": "2018-01-24T15:39:11.571274Z",
     "start_time": "2018-01-24T15:39:08.444Z"
    }
   },
   "outputs": [],
   "source": [
    "ChampLayer = CHAMP_Layer(l0_sparseness=40,sigma=0.5, nb_dico=nb_dico, verbose=4,\n",
    "                         dico_size=(17,17),doSym=False, FilterStyle='GaussianBinary', MaskMod='Residual')\n",
    "dico = ChampLayer.TrainLayer(training_set, eta=0.02, eta_homeo=None, nb_epoch=nb_epoch)"
   ]
  },
  {
   "cell_type": "code",
   "execution_count": null,
   "metadata": {
    "ExecuteTime": {
     "end_time": "2018-01-24T15:39:11.573273Z",
     "start_time": "2018-01-24T15:39:08.452Z"
    }
   },
   "outputs": [],
   "source": [
    "DisplayConvergenceCHAMP(ChampLayer,['error','histo'])\n",
    "DisplayDico(ChampLayer.dictionary)"
   ]
  },
  {
   "cell_type": "code",
   "execution_count": null,
   "metadata": {
    "ExecuteTime": {
     "end_time": "2018-01-24T15:39:11.574902Z",
     "start_time": "2018-01-24T15:39:08.457Z"
    }
   },
   "outputs": [],
   "source": [
    "ChampLayer = CHAMP_Layer(l0_sparseness=40, sigma=0.5, nb_dico=nb_dico, verbose=4,\n",
    "                         dico_size=(17,17), doSym=False, FilterStyle='GaussianBinaryMagic', MaskMod='Residual')\n",
    "dico = ChampLayer.TrainLayer(training_set, eta=eta, eta_homeo=None, nb_epoch=nb_epoch)"
   ]
  },
  {
   "cell_type": "code",
   "execution_count": null,
   "metadata": {
    "ExecuteTime": {
     "end_time": "2018-01-24T15:39:11.576266Z",
     "start_time": "2018-01-24T15:39:08.459Z"
    }
   },
   "outputs": [],
   "source": [
    "DisplayConvergenceCHAMP(ChampLayer,['error', 'histo'])\n",
    "DisplayDico(ChampLayer.dictionary)"
   ]
  },
  {
   "cell_type": "code",
   "execution_count": null,
   "metadata": {},
   "outputs": [],
   "source": []
  }
 ],
 "metadata": {
  "kernelspec": {
   "display_name": "Python 3",
   "language": "python",
   "name": "python3"
  },
  "language_info": {
   "codemirror_mode": {
    "name": "ipython",
    "version": 3
   },
   "file_extension": ".py",
   "mimetype": "text/x-python",
   "name": "python",
   "nbconvert_exporter": "python",
   "pygments_lexer": "ipython3",
   "version": "3.6.4"
  },
  "toc": {
   "nav_menu": {},
   "number_sections": true,
   "sideBar": true,
   "skip_h1_title": false,
   "toc_cell": false,
   "toc_position": {},
   "toc_section_display": "block",
   "toc_window_display": false
  }
 },
 "nbformat": 4,
 "nbformat_minor": 2
}
