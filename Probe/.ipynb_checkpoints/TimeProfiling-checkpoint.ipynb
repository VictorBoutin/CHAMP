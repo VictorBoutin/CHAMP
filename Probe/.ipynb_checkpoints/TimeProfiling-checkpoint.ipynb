{
 "cells": [
  {
   "cell_type": "code",
   "execution_count": null,
   "metadata": {
    "collapsed": false
   },
   "outputs": [],
   "source": [
    "%load_ext autoreload\n",
    "%autoreload 2\n",
    "%matplotlib inline\n",
    "%load_ext line_profiler\n",
    "import line_profiler"
   ]
  },
  {
   "cell_type": "code",
   "execution_count": null,
   "metadata": {
    "collapsed": false
   },
   "outputs": [],
   "source": [
    "import numpy as np\n",
    "import matplotlib.pyplot as plt\n",
    "\n",
    "\n",
    "from HOTS.Event import Event, SimpleAlphabet\n",
    "from HOTS.STS import STS\n",
    "from HOTS.Layer import ClusteringLayer, FilterNHBD\n",
    "from HOTS.Monitor import DisplayImage, DisplaySurface3D, DisplaySurface2D, DisplayConvergence\n",
    "from HOTS.Tools import SaveObject, LoadObject\n",
    "from HOTS.Classifier import Classifier\n",
    "from HOTS.Network import Network\n",
    "from HOTS.KmeansCluster import KmeansMaro"
   ]
  },
  {
   "cell_type": "code",
   "execution_count": 3,
   "metadata": {
    "collapsed": true
   },
   "outputs": [],
   "source": [
    "tau = 0.02\n",
    "R = 2\n",
    "nb_cluster = [4,8,16]\n",
    "ImageSize = (32,32)"
   ]
  },
  {
   "cell_type": "markdown",
   "metadata": {},
   "source": [
    "## Profiling the event loading"
   ]
  },
  {
   "cell_type": "code",
   "execution_count": 5,
   "metadata": {
    "collapsed": false
   },
   "outputs": [
    {
     "name": "stdout",
     "output_type": "stream",
     "text": [
      "\n",
      "*** Profile printout saved to text file 'timing_load_event.txt'. \n"
     ]
    }
   ],
   "source": [
    "#event_tr, event_te, event_cl, label_tr, label_te = SimpleAlphabet(NbTrainingData=36, NbTestingData=40,\n",
    "#                                                        ClusteringData=[1, 32, 19, 22, 29],\n",
    "#                                                        OutOnePolarity = False, verbose=0, \n",
    "#                                                        Path='../Data/ExtractedStabilized.mat', \n",
    "#                                                        LabelPath='../Data/alphabet_label.pkl')\n",
    "\n",
    "%lprun -T timing_load_event.txt -f SimpleAlphabet event_tr, event_te, event_cl, label_tr, label_te = SimpleAlphabet(NbTrainingData=36, NbTestingData=40,\\\n",
    "                                                        ClusteringData=[1, 32, 19, 22, 29],\\\n",
    "                                                        OutOnePolarity = False, verbose=0, \\\n",
    "                                                        Path='../Data/ExtractedStabilized.mat',\\\n",
    "                                                        LabelPath='../Data/alphabet_label.pkl')"
   ]
  },
  {
   "cell_type": "markdown",
   "metadata": {},
   "source": [
    "# Loading of the stream of event"
   ]
  },
  {
   "cell_type": "code",
   "execution_count": null,
   "metadata": {
    "collapsed": false
   },
   "outputs": [],
   "source": [
    "%lprun -f SimpleAlphabet \\\n",
    "event_tr,event_te,event_cl,label_tr, label_te = SimpleAlphabet(NbTrainingData=36, NbTestingData=40,\\\n",
    "                                                               Path='../Data/ExtractedStabilized.mat',\\\n",
    "                                                               LabelPath='../Data/alphabet_label.pkl',\\\n",
    "                                                               ClusteringData=[1, 32, 19, 22, 29],\\\n",
    "                                                               OutOnePolarity = False, verbose=0)"
   ]
  },
  {
   "cell_type": "code",
   "execution_count": null,
   "metadata": {
    "collapsed": true
   },
   "outputs": [],
   "source": [
    "%lprun -f event_tr.LoadFromMat \\\n",
    "event_tr,event_te,event_cl,label_tr, label_te = SimpleAlphabet(NbTrainingData=36, NbTestingData=40,\\\n",
    "                                                               Path='../Data/ExtractedStabilized.mat',\\\n",
    "                                                               LabelPath='../Data/alphabet_label.pkl',\\\n",
    "                                                               ClusteringData=[1, 32, 19, 22, 29],\\\n",
    "                                                               OutOnePolarity = False, verbose=0)"
   ]
  },
  {
   "cell_type": "code",
   "execution_count": null,
   "metadata": {
    "collapsed": false
   },
   "outputs": [],
   "source": [
    "DisplayImage([event_cl],multi_image=4)"
   ]
  },
  {
   "cell_type": "markdown",
   "metadata": {},
   "source": [
    "Result Of time Optimization : \n",
    "V1 : 1.19s ... V2 : 0.91s ... V3 : 0.26s"
   ]
  },
  {
   "cell_type": "markdown",
   "metadata": {},
   "source": [
    "# Clustering"
   ]
  },
  {
   "cell_type": "code",
   "execution_count": null,
   "metadata": {
    "collapsed": false
   },
   "outputs": [],
   "source": [
    "## Defining the network\n",
    "L1 = ClusteringLayer(tau=tau, R=R, verbose=0, mode='Maro', ThrFilter=2)\n",
    "L2 = ClusteringLayer(tau=10*tau, R=2*R, verbose=0, mode='Maro', ThrFilter=2)\n",
    "L3 = ClusteringLayer(tau=10*10*tau, R=2*2*R, verbose=0, mode='Maro', ThrFilter=2)\n",
    "Net = Network([L1,L2,L3])"
   ]
  },
  {
   "cell_type": "code",
   "execution_count": null,
   "metadata": {
    "collapsed": false
   },
   "outputs": [],
   "source": [
    "%lprun -f Net.TrainCluster \\\n",
    "ClusterLayer, event_output = Net.TrainCluster(event = event_cl,nb_cluster=nb_cluster, KN=KN, \\\n",
    "                                                 record_each=1000, NbCycle=1)"
   ]
  },
  {
   "cell_type": "code",
   "execution_count": null,
   "metadata": {
    "collapsed": false
   },
   "outputs": [],
   "source": [
    "%lprun -f L1.TrainLayer \\\n",
    "ClusterLayer, event_output = Net.TrainCluster(event = event_cl,nb_cluster=nb_cluster, KN=KN, \\\n",
    "                                                 record_each=1000, NbCycle=1)"
   ]
  },
  {
   "cell_type": "code",
   "execution_count": null,
   "metadata": {
    "collapsed": true
   },
   "outputs": [],
   "source": [
    "%lprun -f L1.ClusterLayer.fit \\\n",
    "ClusterLayer, event_output = Net.TrainCluster(event = event_cl,nb_cluster=nb_cluster, KN=KN, \\\n",
    "                                                 record_each=1000, NbCycle=1)"
   ]
  },
  {
   "cell_type": "code",
   "execution_count": null,
   "metadata": {
    "collapsed": true
   },
   "outputs": [],
   "source": [
    "%lprun -f L1.ClusterLayer.predict \\\n",
    "ClusterLayer, event_output = Net.TrainCluster(event = event_cl,nb_cluster=nb_cluster, KN=KN, \\\n",
    "                                                 record_each=1000, NbCycle=1)"
   ]
  },
  {
   "cell_type": "code",
   "execution_count": null,
   "metadata": {
    "collapsed": false
   },
   "outputs": [],
   "source": [
    "%lprun -f L1.SpTe_Layer.create \\\n",
    "ClusterLayer, event_output = Net.TrainCluster(event = event_cl,nb_cluster=nb_cluster, KN=KN, \\\n",
    "                                                 record_each=1000, NbCycle=1)"
   ]
  },
  {
   "cell_type": "code",
   "execution_count": null,
   "metadata": {
    "collapsed": false
   },
   "outputs": [],
   "source": [
    "from HOTS.Tools import EuclidianNorm\n",
    "\n",
    "\n",
    "\n",
    "a = L1.SpTe_Layer.Surface\n",
    "print(a.shape)\n",
    "proto = L1.ClusterLayer.prototype.T\n",
    "print(proto.shape)\n",
    "b = a[:,:,np.newaxis]-proto\n",
    "print(b.shape)\n",
    "norm1 = np.linalg.norm(b,axis=1)\n",
    "print(norm1.shape)\n",
    "pol1 = np.argmin(norm1,axis=1)\n",
    "dist = np.amin(norm1,axis=1)\n",
    "print('shape pol', pol1.shape)\n",
    "print('shape dist', dist.shape)\n",
    "\n",
    "%timeit L1.ClusterLayer.predict(L1.SpTe_Layer, event = event_tr)\n",
    "event_out, out1 = L1.ClusterLayer.predict(L1.SpTe_Layer, event = event_tr)\n",
    "print(out1)\n",
    "\n",
    "def predictFast(proto, STS, event=None, SurfaceFilter=None):\n",
    "    if SurfaceFilter == None:\n",
    "        to_predict = STS.Surface\n",
    "    else :\n",
    "        random_selection = np.random.permutation(np.arange(STS.Surface.shape[0]))[:SurfaceFilter]\n",
    "        to_predict = STS.Surface[random_selection]\n",
    "        \n",
    "    #polarity,output_distance = np.zeros(to_predict.shape[0]).astype(int),np.zeros(to_predict.shape[0])\n",
    "    \n",
    "    diff = to_predict[:,:,np.newaxis] - proto.T\n",
    "    norm1 = np.linalg.norm(diff, axis=1)\n",
    "    polarity = np.argmin(norm1,axis=1)\n",
    "    output_distance = np.amin(norm1,axis=1)\n",
    "    return output_distance\n",
    "\n",
    "%timeit predictFast(L1.ClusterLayer.prototype,L1.SpTe_Layer)\n",
    "distance = predictFast(L1.ClusterLayer.prototype,L1.SpTe_Layer)\n",
    "print(distance)\n",
    "\n",
    "\n",
    "    #to_predict\n",
    "    \n",
    "    #diff = to_predict[:,:,np.newaxis] - proto.T\n",
    "    #norm1 = np.linalg.norm(diff, axis=1)\n",
    "    #polarity = np.argmin(norm1,axis=1)\n",
    "    #output_distance = np.amin(norm1,axis=1)\n",
    "    #return output_distance\n"
   ]
  },
  {
   "cell_type": "code",
   "execution_count": null,
   "metadata": {
    "collapsed": false
   },
   "outputs": [],
   "source": [
    "import itertools\n",
    "def predictFast1(proto, STS, event=None, SurfaceFilter=None,batch_size=10000):\n",
    "    \n",
    "    if SurfaceFilter == None:\n",
    "        to_predict = STS.Surface\n",
    "    else :\n",
    "        random_selection = np.random.permutation(np.arange(STS.Surface.shape[0]))[:SurfaceFilter]\n",
    "        to_predict = STS.Surface[random_selection]\n",
    "        \n",
    "    n_batch = to_predict.shape[0] // batch_size \n",
    "    batches = np.array_split(to_predict, n_batch)\n",
    "    \n",
    "    batches = itertools.cycle(batches)    \n",
    "    polarity = np.zeros(to_predict.shape[0])\n",
    "    output_distance = np.zeros(to_predict.shape[0])\n",
    "    init_idx = 0\n",
    "    for ii, this_X in zip(range(n_batch), batches):\n",
    "        diff = this_X[:,:,np.newaxis] - proto.T\n",
    "        end_idx = init_idx + this_X.shape[0]        \n",
    "        norm1 = np.linalg.norm(diff, axis=1)\n",
    "        polarity[init_idx:end_idx] = np.argmin(norm1,axis=1)\n",
    "        output_distance[init_idx:end_idx] = np.amin(norm1,axis=1)\n",
    "        init_idx = end_idx\n",
    "    return polarity, output_distance\n",
    "\n",
    "% timeit predictFast1(L1.ClusterLayer.prototype,L1.SpTe_Layer)\n",
    "pol, distance = predictFast1(L1.ClusterLayer.prototype,L1.SpTe_Layer)\n",
    "print(distance)"
   ]
  },
  {
   "cell_type": "code",
   "execution_count": null,
   "metadata": {
    "collapsed": false
   },
   "outputs": [],
   "source": [
    "\n",
    "\n",
    "a = np.arange(20)\n",
    "print(a.shape)\n",
    "\n",
    "a[4:7]=45\n",
    "print(a)"
   ]
  },
  {
   "cell_type": "markdown",
   "metadata": {},
   "source": [
    "Result Of Time Optimization\n",
    "V1 : 56 s"
   ]
  },
  {
   "cell_type": "markdown",
   "metadata": {},
   "source": [
    "# Running the network to output Training Histo"
   ]
  },
  {
   "cell_type": "code",
   "execution_count": null,
   "metadata": {
    "collapsed": true
   },
   "outputs": [],
   "source": [
    "%lprun -f Net.RunNetwork \\\n",
    "event0_o_tr = Net.RunNetwork(event_tr, ClusterList=ClusterLayer)\n",
    "\n",
    "   "
   ]
  },
  {
   "cell_type": "code",
   "execution_count": null,
   "metadata": {
    "collapsed": true
   },
   "outputs": [],
   "source": [
    "%lprun -f L1.RunLayer \\\n",
    "event0_o_tr = Net.RunNetwork(event_tr, ClusterList=ClusterLayer)"
   ]
  },
  {
   "cell_type": "markdown",
   "metadata": {},
   "source": [
    "V1 : 207 s"
   ]
  },
  {
   "cell_type": "code",
   "execution_count": null,
   "metadata": {
    "collapsed": true
   },
   "outputs": [],
   "source": [
    "# Running the network to output Training Histo"
   ]
  },
  {
   "cell_type": "code",
   "execution_count": null,
   "metadata": {
    "collapsed": false
   },
   "outputs": [],
   "source": [
    " ## Generating histogram for the test samples\n",
    "    event0_o_te = Net.RunNetwork(event_te, ClusterList=ClusterLayer)\n",
    "\n",
    "    Classif0 = Classifier(event0_o_tr,event0_o_te, TrainingLabel=label_tr, GroundTruth=label_te)\n",
    "\n",
    "    eucli,norma,battach,accu = Classif0.HistogramDistance()"
   ]
  },
  {
   "cell_type": "code",
   "execution_count": null,
   "metadata": {
    "collapsed": false
   },
   "outputs": [],
   "source": []
  },
  {
   "cell_type": "code",
   "execution_count": null,
   "metadata": {
    "collapsed": true
   },
   "outputs": [],
   "source": []
  }
 ],
 "metadata": {
  "kernelspec": {
   "display_name": "Python 3",
   "language": "python",
   "name": "python3"
  },
  "language_info": {
   "codemirror_mode": {
    "name": "ipython",
    "version": 3
   },
   "file_extension": ".py",
   "mimetype": "text/x-python",
   "name": "python",
   "nbconvert_exporter": "python",
   "pygments_lexer": "ipython3",
   "version": "3.6.1"
  }
 },
 "nbformat": 4,
 "nbformat_minor": 2
}
