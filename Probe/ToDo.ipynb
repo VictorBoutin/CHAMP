{
 "cells": [
  {
   "cell_type": "markdown",
   "metadata": {},
   "source": [
    "To Do : "
   ]
  },
  {
   "cell_type": "markdown",
   "metadata": {},
   "source": [
    " - Run a fully connected layer with only image as input\n",
    "\n",
    "\n",
    " - Compare the result with the same network with a layer of unsupervised learning\n",
    "\n",
    " - Check if round filters improve accuracy\n",
    "\n",
    " - Check if homeostasis improve recognition accuracy\n",
    "\n",
    " - Stack layers of unsupervised learning. Check if it is improving the accuracy"
   ]
  },
  {
   "cell_type": "code",
   "execution_count": null,
   "metadata": {
    "collapsed": true
   },
   "outputs": [],
   "source": []
  }
 ],
 "metadata": {
  "kernelspec": {
   "display_name": "Python 3",
   "language": "python",
   "name": "python3"
  },
  "language_info": {
   "codemirror_mode": {
    "name": "ipython",
    "version": 3
   },
   "file_extension": ".py",
   "mimetype": "text/x-python",
   "name": "python",
   "nbconvert_exporter": "python",
   "pygments_lexer": "ipython3",
   "version": "3.6.4"
  },
  "toc": {
   "nav_menu": {},
   "number_sections": true,
   "sideBar": true,
   "skip_h1_title": false,
   "toc_cell": false,
   "toc_position": {},
   "toc_section_display": "block",
   "toc_window_display": false
  }
 },
 "nbformat": 4,
 "nbformat_minor": 2
}
